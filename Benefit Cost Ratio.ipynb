{
 "cells": [
  {
   "cell_type": "markdown",
   "metadata": {},
   "source": [
    "# Benefit Cost Ratio"
   ]
  },
  {
   "cell_type": "code",
   "execution_count": 1,
   "metadata": {},
   "outputs": [],
   "source": [
    "%load_ext autoreload\n",
    "%autoreload 2"
   ]
  },
  {
   "cell_type": "code",
   "execution_count": 2,
   "metadata": {},
   "outputs": [],
   "source": [
    "import numpy as np\n",
    "import pandas as pd"
   ]
  },
  {
   "cell_type": "markdown",
   "metadata": {},
   "source": [
    "## Import data"
   ]
  },
  {
   "cell_type": "code",
   "execution_count": 3,
   "metadata": {},
   "outputs": [],
   "source": [
    "data_all_wide = pd.read_csv(\"Data/preprocessed_scenario_data.csv\")\n",
    "\n",
    "# Transform wide table to long table\n",
    "data_all = (\n",
    "    data_all_wide[\n",
    "        (data_all_wide[\"Region\"] == \"World\")\n",
    "        & (data_all_wide[\"SLR adaptation\"] != \"without\")\n",
    "    ].set_index(\n",
    "        [\n",
    "            \"Model\",\n",
    "            \"Scenario\",\n",
    "            \"Region\",\n",
    "            \"Damage quantile\",\n",
    "            \"SLR quantile\",\n",
    "            \"SLR adaptation\",\n",
    "            \"Target\",\n",
    "            \"Discounting\",\n",
    "            \"Variable\",\n",
    "            \"Unit\",\n",
    "        ]\n",
    "    )\n",
    "    .rename_axis(\"Year\", axis=1)\n",
    "    .stack()\n",
    "    .to_frame(\"Value\")\n",
    "    .reset_index()\n",
    ")\n",
    "data_all[\"Discounting\"] = data_all[\"Discounting\"].fillna(\"not_applicable\")\n"
   ]
  },
  {
   "cell_type": "code",
   "execution_count": 4,
   "metadata": {},
   "outputs": [],
   "source": [
    "## Prepare MIMOSA data\n",
    "\n",
    "data_mimosa = data_all[data_all[\"Model\"] == \"MIMOSA\"].copy()\n",
    "data_mimosa[\"Scenario\"] = \"\"\n",
    "\n",
    "\n",
    "# The with-damage baseline scenario is the same for each discount rate, so copy it for all\n",
    "_data_mimosa_baseline_with_damage = data_mimosa[\n",
    "    (data_mimosa[\"Target\"] == \"baseline\")\n",
    "    & (data_mimosa[\"Damage quantile\"] != \"nodamages\")\n",
    "]\n",
    "extra1_mimosa = pd.concat(\n",
    "    [\n",
    "        _data_mimosa_baseline_with_damage.replace({\"not_applicable\": discounting})\n",
    "        for discounting in [\"low\", \"medium\", \"high\"]\n",
    "    ]\n",
    ")\n",
    "\n",
    "# The nodamage baseline scenario is the same for each discount rate and damage quantile, so copy it for all\n",
    "_data_mimosa_baseline_nodamages = data_mimosa[\n",
    "    (data_mimosa[\"Target\"] == \"baseline\")\n",
    "    & (data_mimosa[\"Damage quantile\"] == \"nodamages\")\n",
    "]\n",
    "extra2_mimosa = pd.concat(\n",
    "    [\n",
    "        _data_mimosa_baseline_nodamages.replace(\n",
    "            {\"not_applicable\": discounting, \"nodamages\": damage_q}\n",
    "        )\n",
    "        for discounting in [\"low\", \"medium\", \"high\"]\n",
    "        for damage_q in [\"5\", \"50\", \"95\"]\n",
    "    ]\n",
    ")\n",
    "extra2_mimosa[\"Target\"] = \"nodam\"\n",
    "\n",
    "data_mimosa = pd.concat(\n",
    "    [\n",
    "        data_mimosa[\n",
    "            (data_mimosa[\"Discounting\"] != \"not_applicable\")\n",
    "            & (data_mimosa[\"Damage quantile\"] != \"nodamages\")\n",
    "        ],\n",
    "        extra1_mimosa,\n",
    "        extra2_mimosa,\n",
    "    ]\n",
    ")\n",
    "data_mimosa[\"SLR adaptation\"] = \"with\"\n",
    "data_mimosa[\"Unit\"] = \"\"\n"
   ]
  },
  {
   "cell_type": "code",
   "execution_count": 5,
   "metadata": {},
   "outputs": [],
   "source": [
    "## Prepare REMIND data\n",
    "\n",
    "data_remind = data_all[\n",
    "    (data_all[\"Model\"] == \"REMIND\") & (data_all[\"Target\"] != \"rcp26\")\n",
    "].copy()\n",
    "\n",
    "# In REMIND, RCP6.0 is baseline ( = no policy)\n",
    "data_remind = data_remind.replace({\"rcp60\": \"baseline\"})\n",
    "\n",
    "\n",
    "# The nodamage baseline scenario will be compared with all damage quantiles equally, so copy it three times and change target to \"nodam\"\n",
    "\n",
    "_nodam_baseline_remind = data_remind[\n",
    "    (data_remind[\"Damage quantile\"] == \"nodamages\")\n",
    "    & (data_remind[\"Target\"] == \"baseline\")\n",
    "]\n",
    "extra1_remind = pd.concat(\n",
    "    [\n",
    "        _nodam_baseline_remind.replace({\"nodamages\": damage_q})\n",
    "        for damage_q in [\"5\", \"50\", \"95\"]\n",
    "    ]\n",
    ")\n",
    "extra1_remind[\"Target\"] = \"nodam\"\n",
    "extra1_remind[\"SLR adaptation\"] = \"with\"\n",
    "\n",
    "data_remind = pd.concat(\n",
    "    [data_remind[data_remind[\"Damage quantile\"] != \"nodamages\"], extra1_remind,]\n",
    ")\n"
   ]
  },
  {
   "cell_type": "code",
   "execution_count": 6,
   "metadata": {},
   "outputs": [],
   "source": [
    "## Prepare WITCH data\n",
    "\n",
    "data_witch = data_all[data_all[\"Model\"] == \"WITCH\"].copy()\n",
    "\n",
    "# with-damage baselines are called \"tax0\" in WITCH, rename here:\n",
    "data_witch = data_witch.replace({\"tax0\": \"baseline\"})\n",
    "\n",
    "# \"baudam\" scenarios (baselines with damages, different from tax0 runs) are not necessary:\n",
    "data_witch = data_witch[data_witch[\"Target\"] != \"baudam\"]\n",
    "\n",
    "# The nodamage baseline scenario will be compared with all damage quantiles equally, so copy it three times and change target to \"nodam\"\n",
    "\n",
    "_nodam_baseline_witch = data_witch[\n",
    "    (data_witch[\"Damage quantile\"] == \"nodamages\")\n",
    "    & (data_witch[\"Target\"] == \"baseline\")\n",
    "]\n",
    "extra_witch = pd.concat(\n",
    "    [\n",
    "        _nodam_baseline_witch.replace({\"nodamages\": damage_q})\n",
    "        for damage_q in [\"5\", \"50\", \"95\"]\n",
    "    ]\n",
    ")\n",
    "\n",
    "extra_witch[\"Target\"] = \"nodam\"\n",
    "extra_witch[\"SLR adaptation\"] = \"with\"\n",
    "\n",
    "data_witch = pd.concat(\n",
    "    [data_witch[data_witch[\"Damage quantile\"] != \"nodamages\"], extra_witch]\n",
    ")"
   ]
  },
  {
   "cell_type": "markdown",
   "metadata": {},
   "source": [
    "### Util functions\n",
    "Functions like transforming relative quantities to absolute quantities and calculating NPVs"
   ]
  },
  {
   "cell_type": "code",
   "execution_count": 7,
   "metadata": {},
   "outputs": [],
   "source": [
    "INDEX_COLUMNS = ['Model', 'Region', 'Damage quantile', 'SLR adaptation', 'Target', 'Discounting', 'Variable', 'Year']\n",
    "INDEX_COLUMNS_NO_VAR = [c for c in INDEX_COLUMNS if c != 'Variable']\n",
    "INDEX_COLUMNS_NO_VAR_NO_TARGET = [c for c in INDEX_COLUMNS_NO_VAR if c != 'Target']\n",
    "\n",
    "# 1. Calculate absolute damage and mitigation costs\n",
    "def calc_absolute(data, variable='Damage Cost|%'):\n",
    "    selection = data[data['Variable'].isin([variable, 'GDP|PPP'])]\n",
    "    unstacked = selection.set_index(\n",
    "        INDEX_COLUMNS\n",
    "    )['Value'].unstack('Variable')\n",
    "\n",
    "    absolute_values = (\n",
    "        unstacked[variable] * unstacked['GDP|PPP']\n",
    "    ).rename('Value').reset_index()\n",
    "\n",
    "    return absolute_values.set_index(INDEX_COLUMNS_NO_VAR)['Value']\n",
    "\n",
    "def calc_avoided_damages(data, baseline_target='baseline', mitig_target='cba'):\n",
    "\n",
    "    data = data.copy().reset_index()\n",
    "    # Check that there is only one variable\n",
    "    if 'Variable' in data.columns and len(data['Variable'].unique()) > 1:\n",
    "        raise Exception(\"Variable is not unique\")\n",
    "\n",
    "    selection = data[data['Target'].isin([baseline_target, mitig_target])]\n",
    "\n",
    "    stacked = selection.set_index(INDEX_COLUMNS_NO_VAR)['Value'].unstack('Target')\n",
    "    avoided_damages = stacked[baseline_target] - stacked[mitig_target]\n",
    "\n",
    "    to_df = avoided_damages.rename('Value').reset_index()\n",
    "    to_df['Target'] = mitig_target\n",
    "\n",
    "    return to_df.set_index(INDEX_COLUMNS_NO_VAR)['Value']\n",
    "\n",
    "def calc_npv(data, prtp, elasmu=1):\n",
    "\n",
    "    sdr = prtp + elasmu * 0.021\n",
    "\n",
    "    data = data.copy().reset_index()\n",
    "    group_columns = [c for c in data.columns if c not in ['Year', 'Value']]\n",
    "\n",
    "    grouped = data.groupby(group_columns)\n",
    "    \n",
    "    def npv(subdf):\n",
    "        years = subdf['Year'].astype(float)\n",
    "        discounted_values = np.exp(-sdr * (years - years.iloc[0])) * subdf['Value']\n",
    "        return np.trapz(discounted_values, years)\n",
    "\n",
    "    to_npv = grouped.apply(npv)\n",
    "\n",
    "    return to_npv\n",
    "\n",
    "def calc_bcr(avoided_damages, costs, prtp, select_only_discounting=None):\n",
    "    npv_benefits = calc_npv(avoided_damages, prtp)\n",
    "    npv_costs = calc_npv(costs, prtp)\n",
    "\n",
    "    bcr = npv_benefits / npv_costs\n",
    "\n",
    "    bcr_df = bcr.rename('Value').reset_index()\n",
    "    bcr_df['PRTP'] = f'{prtp:.1%}/yr'\n",
    "\n",
    "    if select_only_discounting is not None:\n",
    "        bcr_df = bcr_df[bcr_df['Discounting'] == select_only_discounting]\n",
    "    return bcr_df"
   ]
  },
  {
   "cell_type": "markdown",
   "metadata": {},
   "source": [
    "## Calculations of BCR"
   ]
  },
  {
   "cell_type": "code",
   "execution_count": 8,
   "metadata": {},
   "outputs": [],
   "source": [
    "def calc_bcr_full(data, model):\n",
    "    gdp = data[(data['Variable'] == 'GDP|PPP')].set_index(INDEX_COLUMNS_NO_VAR)['Value']\n",
    "    gdp_unstacked = gdp.unstack('Target')\n",
    "    gdploss_cba = gdp_unstacked['nodam'] - gdp_unstacked['cba']\n",
    "    gdploss_baseline = gdp_unstacked['nodam'] - gdp_unstacked['baseline']\n",
    "\n",
    "    baseline_damages = gdploss_baseline\n",
    "\n",
    "    cba_directdamages = calc_absolute(data[data['Target'] == 'cba'], variable='Damage Cost|%').droplevel('Target')\n",
    "    cba_directpolicy = calc_absolute(data[data['Target'] == 'cba'], variable='Policy Cost|%').droplevel('Target')\n",
    "\n",
    "\n",
    "    if model == \"MIMOSA\":\n",
    "        # Calculate indirect upscaling factor to distribute indirect costs\n",
    "        # between damages and policy costs\n",
    "        indirect_scale_factor = gdploss_cba / (cba_directpolicy + cba_directdamages)\n",
    "        indirect_scale_factor.loc[pd.IndexSlice[:,:,:,:,:,'2020']] = 1.0\n",
    "\n",
    "        cba_damages = cba_directdamages * indirect_scale_factor\n",
    "        cba_policy = cba_directpolicy * indirect_scale_factor\n",
    "    \n",
    "    else:\n",
    "        # For WITCH and REMIND, the policy costs already include indirect costs\n",
    "        cba_damages = gdploss_cba - cba_directpolicy\n",
    "        cba_policy = cba_directpolicy\n",
    "\n",
    "    costs = cba_policy.rename('Value')\n",
    "    avoided_damages = (baseline_damages - cba_damages).rename('Value')\n",
    "\n",
    "    bcr = pd.concat([\n",
    "        calc_bcr(avoided_damages, costs, prtp, discounting)\n",
    "        for discounting, prtp in zip(['low', 'medium', 'high'], [0.001, 0.015, 0.03])\n",
    "    ])\n",
    "\n",
    "    relative_costs = (costs / gdp).reset_index()\n",
    "    relative_avoided_damages = (avoided_damages / gdp).reset_index()\n",
    "    \n",
    "    return bcr, relative_costs, relative_avoided_damages"
   ]
  },
  {
   "cell_type": "code",
   "execution_count": 9,
   "metadata": {},
   "outputs": [
    {
     "data": {
      "text/html": [
       "<div>\n",
       "<style scoped>\n",
       "    .dataframe tbody tr th:only-of-type {\n",
       "        vertical-align: middle;\n",
       "    }\n",
       "\n",
       "    .dataframe tbody tr th {\n",
       "        vertical-align: top;\n",
       "    }\n",
       "\n",
       "    .dataframe thead th {\n",
       "        text-align: right;\n",
       "    }\n",
       "</style>\n",
       "<table border=\"1\" class=\"dataframe\">\n",
       "  <thead>\n",
       "    <tr style=\"text-align: right;\">\n",
       "      <th></th>\n",
       "      <th>Model</th>\n",
       "      <th>Region</th>\n",
       "      <th>Damage quantile</th>\n",
       "      <th>SLR adaptation</th>\n",
       "      <th>Discounting</th>\n",
       "      <th>Value</th>\n",
       "      <th>PRTP</th>\n",
       "    </tr>\n",
       "  </thead>\n",
       "  <tbody>\n",
       "    <tr>\n",
       "      <th>1</th>\n",
       "      <td>MIMOSA</td>\n",
       "      <td>World</td>\n",
       "      <td>5</td>\n",
       "      <td>with</td>\n",
       "      <td>low</td>\n",
       "      <td>0.528401</td>\n",
       "      <td>0.1%/yr</td>\n",
       "    </tr>\n",
       "    <tr>\n",
       "      <th>4</th>\n",
       "      <td>MIMOSA</td>\n",
       "      <td>World</td>\n",
       "      <td>50</td>\n",
       "      <td>with</td>\n",
       "      <td>low</td>\n",
       "      <td>3.155090</td>\n",
       "      <td>0.1%/yr</td>\n",
       "    </tr>\n",
       "    <tr>\n",
       "      <th>7</th>\n",
       "      <td>MIMOSA</td>\n",
       "      <td>World</td>\n",
       "      <td>95</td>\n",
       "      <td>with</td>\n",
       "      <td>low</td>\n",
       "      <td>3.538762</td>\n",
       "      <td>0.1%/yr</td>\n",
       "    </tr>\n",
       "    <tr>\n",
       "      <th>2</th>\n",
       "      <td>MIMOSA</td>\n",
       "      <td>World</td>\n",
       "      <td>5</td>\n",
       "      <td>with</td>\n",
       "      <td>medium</td>\n",
       "      <td>0.270417</td>\n",
       "      <td>1.5%/yr</td>\n",
       "    </tr>\n",
       "    <tr>\n",
       "      <th>5</th>\n",
       "      <td>MIMOSA</td>\n",
       "      <td>World</td>\n",
       "      <td>50</td>\n",
       "      <td>with</td>\n",
       "      <td>medium</td>\n",
       "      <td>2.704602</td>\n",
       "      <td>1.5%/yr</td>\n",
       "    </tr>\n",
       "    <tr>\n",
       "      <th>8</th>\n",
       "      <td>MIMOSA</td>\n",
       "      <td>World</td>\n",
       "      <td>95</td>\n",
       "      <td>with</td>\n",
       "      <td>medium</td>\n",
       "      <td>2.964245</td>\n",
       "      <td>1.5%/yr</td>\n",
       "    </tr>\n",
       "    <tr>\n",
       "      <th>0</th>\n",
       "      <td>MIMOSA</td>\n",
       "      <td>World</td>\n",
       "      <td>5</td>\n",
       "      <td>with</td>\n",
       "      <td>high</td>\n",
       "      <td>-0.081209</td>\n",
       "      <td>3.0%/yr</td>\n",
       "    </tr>\n",
       "    <tr>\n",
       "      <th>3</th>\n",
       "      <td>MIMOSA</td>\n",
       "      <td>World</td>\n",
       "      <td>50</td>\n",
       "      <td>with</td>\n",
       "      <td>high</td>\n",
       "      <td>2.390659</td>\n",
       "      <td>3.0%/yr</td>\n",
       "    </tr>\n",
       "    <tr>\n",
       "      <th>6</th>\n",
       "      <td>MIMOSA</td>\n",
       "      <td>World</td>\n",
       "      <td>95</td>\n",
       "      <td>with</td>\n",
       "      <td>high</td>\n",
       "      <td>2.603852</td>\n",
       "      <td>3.0%/yr</td>\n",
       "    </tr>\n",
       "    <tr>\n",
       "      <th>1</th>\n",
       "      <td>REMIND</td>\n",
       "      <td>World</td>\n",
       "      <td>5</td>\n",
       "      <td>with</td>\n",
       "      <td>medium</td>\n",
       "      <td>0.957992</td>\n",
       "      <td>1.5%/yr</td>\n",
       "    </tr>\n",
       "    <tr>\n",
       "      <th>3</th>\n",
       "      <td>REMIND</td>\n",
       "      <td>World</td>\n",
       "      <td>50</td>\n",
       "      <td>with</td>\n",
       "      <td>medium</td>\n",
       "      <td>3.926094</td>\n",
       "      <td>1.5%/yr</td>\n",
       "    </tr>\n",
       "    <tr>\n",
       "      <th>5</th>\n",
       "      <td>REMIND</td>\n",
       "      <td>World</td>\n",
       "      <td>95</td>\n",
       "      <td>with</td>\n",
       "      <td>medium</td>\n",
       "      <td>4.963843</td>\n",
       "      <td>1.5%/yr</td>\n",
       "    </tr>\n",
       "    <tr>\n",
       "      <th>0</th>\n",
       "      <td>REMIND</td>\n",
       "      <td>World</td>\n",
       "      <td>5</td>\n",
       "      <td>with</td>\n",
       "      <td>high</td>\n",
       "      <td>0.642958</td>\n",
       "      <td>3.0%/yr</td>\n",
       "    </tr>\n",
       "    <tr>\n",
       "      <th>2</th>\n",
       "      <td>REMIND</td>\n",
       "      <td>World</td>\n",
       "      <td>50</td>\n",
       "      <td>with</td>\n",
       "      <td>high</td>\n",
       "      <td>1.978159</td>\n",
       "      <td>3.0%/yr</td>\n",
       "    </tr>\n",
       "    <tr>\n",
       "      <th>4</th>\n",
       "      <td>REMIND</td>\n",
       "      <td>World</td>\n",
       "      <td>95</td>\n",
       "      <td>with</td>\n",
       "      <td>high</td>\n",
       "      <td>2.408118</td>\n",
       "      <td>3.0%/yr</td>\n",
       "    </tr>\n",
       "    <tr>\n",
       "      <th>1</th>\n",
       "      <td>WITCH</td>\n",
       "      <td>World</td>\n",
       "      <td>5</td>\n",
       "      <td>with</td>\n",
       "      <td>low</td>\n",
       "      <td>1.000000</td>\n",
       "      <td>0.1%/yr</td>\n",
       "    </tr>\n",
       "    <tr>\n",
       "      <th>4</th>\n",
       "      <td>WITCH</td>\n",
       "      <td>World</td>\n",
       "      <td>50</td>\n",
       "      <td>with</td>\n",
       "      <td>low</td>\n",
       "      <td>1.785115</td>\n",
       "      <td>0.1%/yr</td>\n",
       "    </tr>\n",
       "    <tr>\n",
       "      <th>7</th>\n",
       "      <td>WITCH</td>\n",
       "      <td>World</td>\n",
       "      <td>95</td>\n",
       "      <td>with</td>\n",
       "      <td>low</td>\n",
       "      <td>2.223572</td>\n",
       "      <td>0.1%/yr</td>\n",
       "    </tr>\n",
       "    <tr>\n",
       "      <th>2</th>\n",
       "      <td>WITCH</td>\n",
       "      <td>World</td>\n",
       "      <td>5</td>\n",
       "      <td>with</td>\n",
       "      <td>medium</td>\n",
       "      <td>1.000000</td>\n",
       "      <td>1.5%/yr</td>\n",
       "    </tr>\n",
       "    <tr>\n",
       "      <th>5</th>\n",
       "      <td>WITCH</td>\n",
       "      <td>World</td>\n",
       "      <td>50</td>\n",
       "      <td>with</td>\n",
       "      <td>medium</td>\n",
       "      <td>1.535940</td>\n",
       "      <td>1.5%/yr</td>\n",
       "    </tr>\n",
       "    <tr>\n",
       "      <th>8</th>\n",
       "      <td>WITCH</td>\n",
       "      <td>World</td>\n",
       "      <td>95</td>\n",
       "      <td>with</td>\n",
       "      <td>medium</td>\n",
       "      <td>1.795318</td>\n",
       "      <td>1.5%/yr</td>\n",
       "    </tr>\n",
       "    <tr>\n",
       "      <th>0</th>\n",
       "      <td>WITCH</td>\n",
       "      <td>World</td>\n",
       "      <td>5</td>\n",
       "      <td>with</td>\n",
       "      <td>high</td>\n",
       "      <td>NaN</td>\n",
       "      <td>3.0%/yr</td>\n",
       "    </tr>\n",
       "    <tr>\n",
       "      <th>3</th>\n",
       "      <td>WITCH</td>\n",
       "      <td>World</td>\n",
       "      <td>50</td>\n",
       "      <td>with</td>\n",
       "      <td>high</td>\n",
       "      <td>1.260113</td>\n",
       "      <td>3.0%/yr</td>\n",
       "    </tr>\n",
       "    <tr>\n",
       "      <th>6</th>\n",
       "      <td>WITCH</td>\n",
       "      <td>World</td>\n",
       "      <td>95</td>\n",
       "      <td>with</td>\n",
       "      <td>high</td>\n",
       "      <td>1.480983</td>\n",
       "      <td>3.0%/yr</td>\n",
       "    </tr>\n",
       "  </tbody>\n",
       "</table>\n",
       "</div>"
      ],
      "text/plain": [
       "    Model Region Damage quantile SLR adaptation Discounting     Value     PRTP\n",
       "1  MIMOSA  World               5           with         low  0.528401  0.1%/yr\n",
       "4  MIMOSA  World              50           with         low  3.155090  0.1%/yr\n",
       "7  MIMOSA  World              95           with         low  3.538762  0.1%/yr\n",
       "2  MIMOSA  World               5           with      medium  0.270417  1.5%/yr\n",
       "5  MIMOSA  World              50           with      medium  2.704602  1.5%/yr\n",
       "8  MIMOSA  World              95           with      medium  2.964245  1.5%/yr\n",
       "0  MIMOSA  World               5           with        high -0.081209  3.0%/yr\n",
       "3  MIMOSA  World              50           with        high  2.390659  3.0%/yr\n",
       "6  MIMOSA  World              95           with        high  2.603852  3.0%/yr\n",
       "1  REMIND  World               5           with      medium  0.957992  1.5%/yr\n",
       "3  REMIND  World              50           with      medium  3.926094  1.5%/yr\n",
       "5  REMIND  World              95           with      medium  4.963843  1.5%/yr\n",
       "0  REMIND  World               5           with        high  0.642958  3.0%/yr\n",
       "2  REMIND  World              50           with        high  1.978159  3.0%/yr\n",
       "4  REMIND  World              95           with        high  2.408118  3.0%/yr\n",
       "1   WITCH  World               5           with         low  1.000000  0.1%/yr\n",
       "4   WITCH  World              50           with         low  1.785115  0.1%/yr\n",
       "7   WITCH  World              95           with         low  2.223572  0.1%/yr\n",
       "2   WITCH  World               5           with      medium  1.000000  1.5%/yr\n",
       "5   WITCH  World              50           with      medium  1.535940  1.5%/yr\n",
       "8   WITCH  World              95           with      medium  1.795318  1.5%/yr\n",
       "0   WITCH  World               5           with        high       NaN  3.0%/yr\n",
       "3   WITCH  World              50           with        high  1.260113  3.0%/yr\n",
       "6   WITCH  World              95           with        high  1.480983  3.0%/yr"
      ]
     },
     "execution_count": 9,
     "metadata": {},
     "output_type": "execute_result"
    }
   ],
   "source": [
    "bcr_mimosa, relative_costs_mimosa, relative_avoided_damages_mimosa = calc_bcr_full(data_mimosa, \"MIMOSA\")\n",
    "bcr_remind, relative_costs_remind, relative_avoided_damages_remind = calc_bcr_full(data_remind, \"REMIND\")\n",
    "bcr_witch, relative_costs_witch, relative_avoided_damages_witch = calc_bcr_full(data_witch, \"WITCH\")\n",
    "\n",
    "bcr_values = pd.concat([bcr_mimosa, bcr_remind, bcr_witch])\n",
    "relative_costs_values = pd.concat([relative_costs_mimosa, relative_costs_remind, relative_costs_witch])\n",
    "relative_avoided_damages_values = pd.concat([relative_avoided_damages_mimosa, relative_avoided_damages_remind, relative_avoided_damages_witch])\n",
    "\n",
    "bcr_values.to_csv(\"Data/output_benefit_cost_ratios.csv\", index=False)\n",
    "\n",
    "bcr_values"
   ]
  },
  {
   "cell_type": "markdown",
   "metadata": {},
   "source": [
    "### Plot"
   ]
  },
  {
   "cell_type": "code",
   "execution_count": 10,
   "metadata": {},
   "outputs": [],
   "source": [
    "relative_avoided_damages_values['Variable'] = 'Avoided Damages|% GDP'\n",
    "relative_avoided_damages_values = relative_avoided_damages_values[relative_avoided_damages_values['Target'] == 'cba']\n",
    "\n",
    "relative_costs_values['Variable'] = 'Policy Cost|% GDP'\n",
    "relative_costs_values = relative_costs_values[relative_costs_values['Target'] == 'cba']\n",
    "\n",
    "temperatures = pd.concat([data_mimosa, data_remind, data_witch])\n",
    "temperatures = temperatures[\n",
    "    (temperatures['Variable'] == 'Temperature|Global Mean')\n",
    "    & temperatures['Target'].isin(['cba', 'baseline'])\n",
    "    & (temperatures['SLR adaptation'] == 'with')\n",
    "].astype({'Year': int})\n",
    "\n",
    "costs_and_benefits = pd.concat([\n",
    "    relative_avoided_damages_values,\n",
    "    relative_costs_values,\n",
    "]).astype({'Year': int})\n",
    "\n",
    "costs_and_benefits.to_csv(\"Data/output_costs_and_benefits_over_time.csv\", index=False)\n",
    "\n",
    "bcr_values['Model'] = pd.Categorical(bcr_values['Model'], ['MIMOSA', 'WITCH', 'REMIND'], True)"
   ]
  },
  {
   "cell_type": "code",
   "execution_count": 11,
   "metadata": {},
   "outputs": [
    {
     "data": {
      "application/vnd.plotly.v1+json": {
       "config": {
        "plotlyServerURL": "https://plot.ly"
       },
       "data": [
        {
         "legendgroup": "MIMOSA",
         "line": {
          "color": "#00AEEF",
          "dash": "solid",
          "width": 3
         },
         "mode": "lines",
         "name": "MIMOSA: Baseline",
         "showlegend": false,
         "type": "scatter",
         "x": [
          2020,
          2025,
          2030,
          2035,
          2040,
          2045,
          2050,
          2055,
          2060,
          2065,
          2070,
          2075,
          2080,
          2085,
          2090,
          2095,
          2100,
          2105,
          2110,
          2115,
          2120,
          2125,
          2130,
          2135,
          2140,
          2145,
          2150
         ],
         "xaxis": "x",
         "y": [
          1.16,
          1.30414,
          1.4566,
          1.61404,
          1.77501,
          1.93962,
          2.10684,
          2.27467,
          2.44295,
          2.61326,
          2.78638,
          2.96194,
          3.13918,
          3.31731,
          3.49641,
          3.67719,
          3.85977,
          4.04343,
          4.22716,
          4.40985,
          4.5906,
          4.76863,
          4.94327,
          5.11394,
          5.28016,
          5.44156,
          5.59778
         ],
         "yaxis": "y"
        },
        {
         "legendgroup": "WITCH",
         "line": {
          "color": "#808D1D",
          "dash": "solid",
          "width": 3
         },
         "mode": "lines",
         "name": "WITCH: Baseline",
         "showlegend": false,
         "type": "scatter",
         "x": [
          2020,
          2025,
          2030,
          2035,
          2040,
          2045,
          2050,
          2060,
          2070,
          2080,
          2090,
          2100,
          2110,
          2120,
          2130,
          2140,
          2150
         ],
         "xaxis": "x",
         "y": [
          1.19600901221981,
          1.32921024804555,
          1.45203167930313,
          1.5587826926589,
          1.66481532742081,
          1.77068240032524,
          1.87446319113193,
          2.07458292734558,
          2.26946889607853,
          2.45333552748441,
          2.63370333393,
          2.80124375012886,
          2.96412807298312,
          3.1230098638075,
          3.27403397921949,
          3.418908024993,
          3.55695256870571
         ],
         "yaxis": "y"
        },
        {
         "legendgroup": "REMIND",
         "line": {
          "color": "#FAAD1E",
          "dash": "solid",
          "width": 3
         },
         "mode": "lines",
         "name": "REMIND: Baseline",
         "showlegend": false,
         "type": "scatter",
         "x": [
          2020,
          2025,
          2030,
          2035,
          2040,
          2045,
          2050,
          2055,
          2060,
          2070,
          2080,
          2090,
          2100,
          2110,
          2130,
          2150
         ],
         "xaxis": "x",
         "y": [
          1.159018,
          1.270086,
          1.38546,
          1.516277,
          1.652018,
          1.791103,
          1.932448,
          2.063506,
          2.192138,
          2.445965,
          2.691355,
          2.92454,
          3.140551,
          3.343967,
          3.699411,
          4.008655
         ],
         "yaxis": "y"
        },
        {
         "legendgroup": "MIMOSA_combined",
         "line": {
          "color": "#B6036C",
          "dash": "solid",
          "width": 3
         },
         "mode": "lines",
         "name": "MIMOSA_combined: Baseline",
         "showlegend": false,
         "type": "scatter",
         "x": [],
         "xaxis": "x",
         "y": [],
         "yaxis": "y"
        },
        {
         "legendgroup": "MIMOSA",
         "line": {
          "color": "#00AEEF",
          "dash": "dot",
          "width": 3
         },
         "mode": "lines",
         "name": "MIMOSA: CBA",
         "showlegend": false,
         "type": "scatter",
         "x": [
          2020,
          2025,
          2030,
          2035,
          2040,
          2045,
          2050,
          2055,
          2060,
          2065,
          2070,
          2075,
          2080,
          2085,
          2090,
          2095,
          2100,
          2105,
          2110,
          2115,
          2120,
          2125,
          2130,
          2135,
          2140,
          2145,
          2150
         ],
         "xaxis": "x",
         "y": [
          1.16,
          1.26243,
          1.34157,
          1.40199,
          1.45477,
          1.50275,
          1.54617,
          1.58535,
          1.62108,
          1.65416,
          1.6849,
          1.71325,
          1.7392,
          1.76282,
          1.78415,
          1.80318,
          1.82012,
          1.84645,
          1.87278,
          1.8991,
          1.92543,
          1.95176,
          1.97809,
          2.00442,
          2.03074,
          2.05707,
          2.0834
         ],
         "yaxis": "y"
        },
        {
         "legendgroup": "WITCH",
         "line": {
          "color": "#808D1D",
          "dash": "dot",
          "width": 3
         },
         "mode": "lines",
         "name": "WITCH: CBA",
         "showlegend": false,
         "type": "scatter",
         "x": [
          2020,
          2025,
          2030,
          2035,
          2040,
          2045,
          2050,
          2060,
          2070,
          2080,
          2090,
          2100,
          2110,
          2120,
          2130,
          2140,
          2150
         ],
         "xaxis": "x",
         "y": [
          1.19600901221981,
          1.32921024804555,
          1.43467474131522,
          1.47040093014371,
          1.49759458375965,
          1.52664614631933,
          1.55703436661017,
          1.6304482939745,
          1.7116721895476,
          1.78485842350886,
          1.85073481698294,
          1.89090643186398,
          1.92027720279192,
          1.94586761591624,
          1.97245676679467,
          2.00467939282409,
          2.04314609993924
         ],
         "yaxis": "y"
        },
        {
         "legendgroup": "REMIND",
         "line": {
          "color": "#FAAD1E",
          "dash": "dot",
          "width": 3
         },
         "mode": "lines",
         "name": "REMIND: CBA",
         "showlegend": false,
         "type": "scatter",
         "x": [
          2020,
          2025,
          2030,
          2035,
          2040,
          2045,
          2050,
          2055,
          2060,
          2070,
          2080,
          2090,
          2100,
          2110,
          2130,
          2150
         ],
         "xaxis": "x",
         "y": [
          1.162856,
          1.278014,
          1.378092,
          1.478694,
          1.568488,
          1.635448,
          1.687699,
          1.725099,
          1.757205,
          1.807099,
          1.839607,
          1.859037,
          1.871773,
          1.877956,
          1.865265,
          1.847987
         ],
         "yaxis": "y"
        },
        {
         "legendgroup": "MIMOSA_combined",
         "line": {
          "color": "#B6036C",
          "dash": "dot",
          "width": 3
         },
         "mode": "lines",
         "name": "MIMOSA_combined: CBA",
         "showlegend": false,
         "type": "scatter",
         "x": [],
         "xaxis": "x",
         "y": [],
         "yaxis": "y"
        },
        {
         "legendgroup": "MIMOSA",
         "line": {
          "color": "#00AEEF",
          "dash": "solid",
          "width": 3
         },
         "mode": "lines",
         "name": "MIMOSA",
         "showlegend": false,
         "type": "scatter",
         "x": [
          2020,
          2025,
          2030,
          2035,
          2040,
          2045,
          2050,
          2055,
          2060,
          2065,
          2070,
          2075,
          2080,
          2085,
          2090,
          2095,
          2100,
          2105,
          2110,
          2115,
          2120,
          2125,
          2130,
          2135,
          2140,
          2145,
          2150
         ],
         "xaxis": "x2",
         "y": [
          0,
          0.0008152931838571778,
          0.002680562880830366,
          0.005628610822522824,
          0.009288495003985958,
          0.013824550996979114,
          0.01946441411586268,
          0.026245304873797455,
          0.034225038099122966,
          0.043503002743483565,
          0.054202354998333535,
          0.06637759555915677,
          0.08006000283740106,
          0.09519808812329449,
          0.11183843295427132,
          0.1300233367569384,
          0.1495982786247432,
          0.16838540286207868,
          0.18920533883230503,
          0.21044453780185696,
          0.23199212598808222,
          0.2537580079815643,
          0.27560965244079855,
          0.2973572621470137,
          0.3188869559490133,
          0.34006418102488906,
          0.36066459347613716
         ],
         "yaxis": "y2"
        },
        {
         "legendgroup": "WITCH",
         "line": {
          "color": "#808D1D",
          "dash": "solid",
          "width": 3
         },
         "mode": "lines",
         "name": "WITCH",
         "showlegend": false,
         "type": "scatter",
         "x": [
          2020,
          2025,
          2030,
          2035,
          2040,
          2045,
          2050,
          2060,
          2070,
          2080,
          2090,
          2100,
          2110,
          2120,
          2130,
          2140,
          2150
         ],
         "xaxis": "x2",
         "y": [
          -0.0004859261383039,
          -0.0018446278775324358,
          -0.0009675650789952091,
          0.0015038138809384245,
          0.004558457249904154,
          0.008086421442630103,
          0.011873015087269359,
          0.019967795920182347,
          0.02932695616508414,
          0.039545813433190094,
          0.05097597887879403,
          0.063115696672753,
          0.0758089120277713,
          0.0885843189080936,
          0.1008275429465546,
          0.11231656327587507,
          0.11882445220814322
         ],
         "yaxis": "y2"
        },
        {
         "legendgroup": "REMIND",
         "line": {
          "color": "#FAAD1E",
          "dash": "solid",
          "width": 3
         },
         "mode": "lines",
         "name": "REMIND",
         "showlegend": false,
         "type": "scatter",
         "x": [
          2020,
          2025,
          2030,
          2035,
          2040,
          2045,
          2050,
          2055,
          2060,
          2070,
          2080,
          2090,
          2100,
          2110,
          2130,
          2150
         ],
         "xaxis": "x2",
         "y": [
          -0.00011452917473365096,
          -0.00002870991615092578,
          0.00007553785933422455,
          0.00012378747354782233,
          -0.00011824934146366793,
          0.00021471329737387742,
          0.0027248246443027546,
          0.00685919285548281,
          0.01086381195203715,
          0.02221616336451615,
          0.037217432129285015,
          0.055030469746219404,
          0.07358294997157505,
          0.08805940504942361,
          0.12381196406189747,
          0.16015674443026606
         ],
         "yaxis": "y2"
        },
        {
         "legendgroup": "MIMOSA_combined",
         "line": {
          "color": "#B6036C",
          "dash": "solid",
          "width": 3
         },
         "mode": "lines",
         "name": "MIMOSA_combined",
         "showlegend": false,
         "type": "scatter",
         "x": [],
         "xaxis": "x2",
         "y": [],
         "yaxis": "y2"
        },
        {
         "legendgroup": "MIMOSA",
         "line": {
          "color": "#00AEEF",
          "dash": "dot",
          "width": 3
         },
         "mode": "lines",
         "name": "MIMOSA",
         "showlegend": false,
         "type": "scatter",
         "x": [
          2020,
          2025,
          2030,
          2035,
          2040,
          2045,
          2050,
          2055,
          2060,
          2065,
          2070,
          2075,
          2080,
          2085,
          2090,
          2095,
          2100,
          2105,
          2110,
          2115,
          2120,
          2125,
          2130,
          2135,
          2140,
          2145,
          2150
         ],
         "xaxis": "x2",
         "y": [
          0,
          0.001851911065742902,
          0.009516298623533316,
          0.021545022851954282,
          0.026140157635245877,
          0.027667896328432588,
          0.028699645774506094,
          0.029151948897209224,
          0.029196498849854216,
          0.02905585115776129,
          0.028784554755578392,
          0.028343088645677805,
          0.027812176927247176,
          0.027237417585227304,
          0.026723298804853187,
          0.02631810475707486,
          0.025906995580646314,
          0.02062515777152546,
          0.019685429305288035,
          0.018897037661966473,
          0.018223754164392297,
          0.01763270684162158,
          0.01712734235789172,
          0.016672504620953696,
          0.016273660611909352,
          0.015924845173504867,
          0.015620664352273229
         ],
         "yaxis": "y2"
        },
        {
         "legendgroup": "WITCH",
         "line": {
          "color": "#808D1D",
          "dash": "dot",
          "width": 3
         },
         "mode": "lines",
         "name": "WITCH",
         "showlegend": false,
         "type": "scatter",
         "x": [
          2020,
          2025,
          2030,
          2035,
          2040,
          2045,
          2050,
          2060,
          2070,
          2080,
          2090,
          2100,
          2110,
          2120,
          2130,
          2140,
          2150
         ],
         "xaxis": "x2",
         "y": [
          -0.0004859261383039,
          0.0092486319461703,
          0.013219500905195398,
          0.0157089553005075,
          0.0166574095156085,
          0.0166608219655523,
          0.0169219504883078,
          0.018199070072405,
          0.0197683349072516,
          0.0210374957901551,
          0.0219109257675938,
          0.0220864640390429,
          0.0218340081757101,
          0.021430192368802,
          0.0208965947603949,
          0.0206385294269482,
          0.020667688318481
         ],
         "yaxis": "y2"
        },
        {
         "legendgroup": "REMIND",
         "line": {
          "color": "#FAAD1E",
          "dash": "dot",
          "width": 3
         },
         "mode": "lines",
         "name": "REMIND",
         "showlegend": false,
         "type": "scatter",
         "x": [
          2020,
          2025,
          2030,
          2035,
          2040,
          2045,
          2050,
          2055,
          2060,
          2070,
          2080,
          2090,
          2100,
          2110,
          2130,
          2150
         ],
         "xaxis": "x2",
         "y": [
          -0.0003639385229556,
          0.0026305388150505,
          0.0058828899322068,
          0.0061335997074667995,
          0.0053970638283528,
          0.003742857854062,
          0.003736365029929,
          0.0043163978170438,
          0.0051300574213311,
          0.007639031315715701,
          0.0091564093919808,
          0.0096396169078387,
          0.0092357635266773,
          0.0080288534862572,
          0.0068626521707854,
          0.0071659355361166
         ],
         "yaxis": "y2"
        },
        {
         "legendgroup": "MIMOSA_combined",
         "line": {
          "color": "#B6036C",
          "dash": "dot",
          "width": 3
         },
         "mode": "lines",
         "name": "MIMOSA_combined",
         "showlegend": false,
         "type": "scatter",
         "x": [],
         "xaxis": "x2",
         "y": [],
         "yaxis": "y2"
        },
        {
         "cliponaxis": false,
         "legendgroup": "MIMOSA",
         "marker": {
          "color": "#00AEEF"
         },
         "name": "MIMOSA",
         "text": [
          "3.2",
          "2.7",
          "2.4"
         ],
         "textfont": {
          "color": "#BBB"
         },
         "textposition": "outside",
         "type": "bar",
         "x": [
          "0.1%/yr",
          "1.5%/yr",
          "3.0%/yr"
         ],
         "xaxis": "x3",
         "y": [
          3.155089779949757,
          2.70460242618666,
          2.3906586336471074
         ],
         "yaxis": "y3"
        },
        {
         "cliponaxis": false,
         "legendgroup": "WITCH",
         "marker": {
          "color": "#808D1D"
         },
         "name": "WITCH",
         "text": [
          "1.8",
          "1.5",
          "1.3"
         ],
         "textfont": {
          "color": "#BBB"
         },
         "textposition": "outside",
         "type": "bar",
         "x": [
          "0.1%/yr",
          "1.5%/yr",
          "3.0%/yr"
         ],
         "xaxis": "x3",
         "y": [
          1.7851152666760586,
          1.535939893038981,
          1.2601131440223312
         ],
         "yaxis": "y3"
        },
        {
         "cliponaxis": false,
         "legendgroup": "REMIND",
         "marker": {
          "color": "#FAAD1E"
         },
         "name": "REMIND",
         "text": [
          "3.9",
          "2.0"
         ],
         "textfont": {
          "color": "#BBB"
         },
         "textposition": "outside",
         "type": "bar",
         "x": [
          "1.5%/yr",
          "3.0%/yr"
         ],
         "xaxis": "x3",
         "y": [
          3.9260939668110293,
          1.978159369489877
         ],
         "yaxis": "y3"
        }
       ],
       "layout": {
        "annotations": [
         {
          "font": {
           "size": 16
          },
          "showarrow": false,
          "text": "<b>a.</b> Temperature until 2150<br> ",
          "x": 0.13333333333333333,
          "xanchor": "center",
          "xref": "paper",
          "y": 1,
          "yanchor": "bottom",
          "yref": "paper"
         },
         {
          "font": {
           "size": 16
          },
          "showarrow": false,
          "text": "<b>b.</b> Resulting benefits and costs<br>over time",
          "x": 0.5,
          "xanchor": "center",
          "xref": "paper",
          "y": 1,
          "yanchor": "bottom",
          "yref": "paper"
         },
         {
          "font": {
           "size": 16
          },
          "showarrow": false,
          "text": "<b>c.</b> Benefit Cost Ratios<br> ",
          "x": 0.8666666666666667,
          "xanchor": "center",
          "xref": "paper",
          "y": 1,
          "yanchor": "bottom",
          "yref": "paper"
         },
         {
          "font": {
           "size": 14
          },
          "showarrow": false,
          "text": " Baseline",
          "x": 0.15000000000000002,
          "xanchor": "left",
          "xref": "x domain",
          "y": 0.9,
          "yanchor": "middle",
          "yref": "y domain"
         },
         {
          "font": {
           "size": 14
          },
          "showarrow": false,
          "text": " CBA",
          "x": 0.15000000000000002,
          "xanchor": "left",
          "xref": "x domain",
          "y": 0.8150000000000001,
          "yanchor": "middle",
          "yref": "y domain"
         },
         {
          "font": {
           "size": 14
          },
          "showarrow": false,
          "text": " Avoided damages",
          "x": 0.15000000000000002,
          "xanchor": "left",
          "xref": "x2 domain",
          "y": 0.9,
          "yanchor": "middle",
          "yref": "y2 domain"
         },
         {
          "font": {
           "size": 14
          },
          "showarrow": false,
          "text": " Costs",
          "x": 0.15000000000000002,
          "xanchor": "left",
          "xref": "x2 domain",
          "y": 0.8150000000000001,
          "yanchor": "middle",
          "yref": "y2 domain"
         }
        ],
        "barmode": "group",
        "height": 350,
        "legend": {
         "bgcolor": "#FFF",
         "font": {
          "size": 13
         },
         "tracegroupgap": 0,
         "y": 0.5
        },
        "margin": {
         "b": 30,
         "l": 30,
         "r": 30,
         "t": 70
        },
        "shapes": [
         {
          "line": {
           "color": "#444",
           "dash": "solid",
           "width": 3
          },
          "type": "line",
          "x0": 0.05,
          "x1": 0.15000000000000002,
          "xref": "x domain",
          "y0": 0.9,
          "y1": 0.9,
          "yref": "y domain"
         },
         {
          "line": {
           "color": "#444",
           "dash": "dot",
           "width": 3
          },
          "type": "line",
          "x0": 0.05,
          "x1": 0.15000000000000002,
          "xref": "x domain",
          "y0": 0.8150000000000001,
          "y1": 0.8150000000000001,
          "yref": "y domain"
         },
         {
          "line": {
           "color": "#444",
           "dash": "solid",
           "width": 3
          },
          "type": "line",
          "x0": 0.05,
          "x1": 0.15000000000000002,
          "xref": "x2 domain",
          "y0": 0.9,
          "y1": 0.9,
          "yref": "y2 domain"
         },
         {
          "line": {
           "color": "#444",
           "dash": "dot",
           "width": 3
          },
          "type": "line",
          "x0": 0.05,
          "x1": 0.15000000000000002,
          "xref": "x2 domain",
          "y0": 0.8150000000000001,
          "y1": 0.8150000000000001,
          "yref": "y2 domain"
         },
         {
          "type": "line",
          "x0": 0,
          "x1": 1,
          "xref": "x3 domain",
          "y0": 1,
          "y1": 1,
          "yref": "y3"
         }
        ],
        "template": {
         "data": {
          "bar": [
           {
            "error_x": {
             "color": "#2a3f5f"
            },
            "error_y": {
             "color": "#2a3f5f"
            },
            "marker": {
             "line": {
              "color": "white",
              "width": 0.5
             },
             "pattern": {
              "fillmode": "overlay",
              "size": 10,
              "solidity": 0.2
             }
            },
            "type": "bar"
           }
          ],
          "barpolar": [
           {
            "marker": {
             "line": {
              "color": "white",
              "width": 0.5
             },
             "pattern": {
              "fillmode": "overlay",
              "size": 10,
              "solidity": 0.2
             }
            },
            "type": "barpolar"
           }
          ],
          "carpet": [
           {
            "aaxis": {
             "endlinecolor": "#2a3f5f",
             "gridcolor": "#C8D4E3",
             "linecolor": "#C8D4E3",
             "minorgridcolor": "#C8D4E3",
             "startlinecolor": "#2a3f5f"
            },
            "baxis": {
             "endlinecolor": "#2a3f5f",
             "gridcolor": "#C8D4E3",
             "linecolor": "#C8D4E3",
             "minorgridcolor": "#C8D4E3",
             "startlinecolor": "#2a3f5f"
            },
            "type": "carpet"
           }
          ],
          "choropleth": [
           {
            "colorbar": {
             "outlinewidth": 0,
             "ticks": ""
            },
            "type": "choropleth"
           }
          ],
          "contour": [
           {
            "colorbar": {
             "outlinewidth": 0,
             "ticks": ""
            },
            "colorscale": [
             [
              0,
              "#0d0887"
             ],
             [
              0.1111111111111111,
              "#46039f"
             ],
             [
              0.2222222222222222,
              "#7201a8"
             ],
             [
              0.3333333333333333,
              "#9c179e"
             ],
             [
              0.4444444444444444,
              "#bd3786"
             ],
             [
              0.5555555555555556,
              "#d8576b"
             ],
             [
              0.6666666666666666,
              "#ed7953"
             ],
             [
              0.7777777777777778,
              "#fb9f3a"
             ],
             [
              0.8888888888888888,
              "#fdca26"
             ],
             [
              1,
              "#f0f921"
             ]
            ],
            "type": "contour"
           }
          ],
          "contourcarpet": [
           {
            "colorbar": {
             "outlinewidth": 0,
             "ticks": ""
            },
            "type": "contourcarpet"
           }
          ],
          "heatmap": [
           {
            "colorbar": {
             "outlinewidth": 0,
             "ticks": ""
            },
            "colorscale": [
             [
              0,
              "#0d0887"
             ],
             [
              0.1111111111111111,
              "#46039f"
             ],
             [
              0.2222222222222222,
              "#7201a8"
             ],
             [
              0.3333333333333333,
              "#9c179e"
             ],
             [
              0.4444444444444444,
              "#bd3786"
             ],
             [
              0.5555555555555556,
              "#d8576b"
             ],
             [
              0.6666666666666666,
              "#ed7953"
             ],
             [
              0.7777777777777778,
              "#fb9f3a"
             ],
             [
              0.8888888888888888,
              "#fdca26"
             ],
             [
              1,
              "#f0f921"
             ]
            ],
            "type": "heatmap"
           }
          ],
          "heatmapgl": [
           {
            "colorbar": {
             "outlinewidth": 0,
             "ticks": ""
            },
            "colorscale": [
             [
              0,
              "#0d0887"
             ],
             [
              0.1111111111111111,
              "#46039f"
             ],
             [
              0.2222222222222222,
              "#7201a8"
             ],
             [
              0.3333333333333333,
              "#9c179e"
             ],
             [
              0.4444444444444444,
              "#bd3786"
             ],
             [
              0.5555555555555556,
              "#d8576b"
             ],
             [
              0.6666666666666666,
              "#ed7953"
             ],
             [
              0.7777777777777778,
              "#fb9f3a"
             ],
             [
              0.8888888888888888,
              "#fdca26"
             ],
             [
              1,
              "#f0f921"
             ]
            ],
            "type": "heatmapgl"
           }
          ],
          "histogram": [
           {
            "marker": {
             "pattern": {
              "fillmode": "overlay",
              "size": 10,
              "solidity": 0.2
             }
            },
            "type": "histogram"
           }
          ],
          "histogram2d": [
           {
            "colorbar": {
             "outlinewidth": 0,
             "ticks": ""
            },
            "colorscale": [
             [
              0,
              "#0d0887"
             ],
             [
              0.1111111111111111,
              "#46039f"
             ],
             [
              0.2222222222222222,
              "#7201a8"
             ],
             [
              0.3333333333333333,
              "#9c179e"
             ],
             [
              0.4444444444444444,
              "#bd3786"
             ],
             [
              0.5555555555555556,
              "#d8576b"
             ],
             [
              0.6666666666666666,
              "#ed7953"
             ],
             [
              0.7777777777777778,
              "#fb9f3a"
             ],
             [
              0.8888888888888888,
              "#fdca26"
             ],
             [
              1,
              "#f0f921"
             ]
            ],
            "type": "histogram2d"
           }
          ],
          "histogram2dcontour": [
           {
            "colorbar": {
             "outlinewidth": 0,
             "ticks": ""
            },
            "colorscale": [
             [
              0,
              "#0d0887"
             ],
             [
              0.1111111111111111,
              "#46039f"
             ],
             [
              0.2222222222222222,
              "#7201a8"
             ],
             [
              0.3333333333333333,
              "#9c179e"
             ],
             [
              0.4444444444444444,
              "#bd3786"
             ],
             [
              0.5555555555555556,
              "#d8576b"
             ],
             [
              0.6666666666666666,
              "#ed7953"
             ],
             [
              0.7777777777777778,
              "#fb9f3a"
             ],
             [
              0.8888888888888888,
              "#fdca26"
             ],
             [
              1,
              "#f0f921"
             ]
            ],
            "type": "histogram2dcontour"
           }
          ],
          "mesh3d": [
           {
            "colorbar": {
             "outlinewidth": 0,
             "ticks": ""
            },
            "type": "mesh3d"
           }
          ],
          "parcoords": [
           {
            "line": {
             "colorbar": {
              "outlinewidth": 0,
              "ticks": ""
             }
            },
            "type": "parcoords"
           }
          ],
          "pie": [
           {
            "automargin": true,
            "type": "pie"
           }
          ],
          "scatter": [
           {
            "fillpattern": {
             "fillmode": "overlay",
             "size": 10,
             "solidity": 0.2
            },
            "type": "scatter"
           }
          ],
          "scatter3d": [
           {
            "line": {
             "colorbar": {
              "outlinewidth": 0,
              "ticks": ""
             }
            },
            "marker": {
             "colorbar": {
              "outlinewidth": 0,
              "ticks": ""
             }
            },
            "type": "scatter3d"
           }
          ],
          "scattercarpet": [
           {
            "marker": {
             "colorbar": {
              "outlinewidth": 0,
              "ticks": ""
             }
            },
            "type": "scattercarpet"
           }
          ],
          "scattergeo": [
           {
            "marker": {
             "colorbar": {
              "outlinewidth": 0,
              "ticks": ""
             }
            },
            "type": "scattergeo"
           }
          ],
          "scattergl": [
           {
            "marker": {
             "colorbar": {
              "outlinewidth": 0,
              "ticks": ""
             }
            },
            "type": "scattergl"
           }
          ],
          "scattermapbox": [
           {
            "marker": {
             "colorbar": {
              "outlinewidth": 0,
              "ticks": ""
             }
            },
            "type": "scattermapbox"
           }
          ],
          "scatterpolar": [
           {
            "marker": {
             "colorbar": {
              "outlinewidth": 0,
              "ticks": ""
             }
            },
            "type": "scatterpolar"
           }
          ],
          "scatterpolargl": [
           {
            "marker": {
             "colorbar": {
              "outlinewidth": 0,
              "ticks": ""
             }
            },
            "type": "scatterpolargl"
           }
          ],
          "scatterternary": [
           {
            "marker": {
             "colorbar": {
              "outlinewidth": 0,
              "ticks": ""
             }
            },
            "type": "scatterternary"
           }
          ],
          "surface": [
           {
            "colorbar": {
             "outlinewidth": 0,
             "ticks": ""
            },
            "colorscale": [
             [
              0,
              "#0d0887"
             ],
             [
              0.1111111111111111,
              "#46039f"
             ],
             [
              0.2222222222222222,
              "#7201a8"
             ],
             [
              0.3333333333333333,
              "#9c179e"
             ],
             [
              0.4444444444444444,
              "#bd3786"
             ],
             [
              0.5555555555555556,
              "#d8576b"
             ],
             [
              0.6666666666666666,
              "#ed7953"
             ],
             [
              0.7777777777777778,
              "#fb9f3a"
             ],
             [
              0.8888888888888888,
              "#fdca26"
             ],
             [
              1,
              "#f0f921"
             ]
            ],
            "type": "surface"
           }
          ],
          "table": [
           {
            "cells": {
             "fill": {
              "color": "#EBF0F8"
             },
             "line": {
              "color": "white"
             }
            },
            "header": {
             "fill": {
              "color": "#C8D4E3"
             },
             "line": {
              "color": "white"
             }
            },
            "type": "table"
           }
          ]
         },
         "layout": {
          "annotationdefaults": {
           "arrowcolor": "#2a3f5f",
           "arrowhead": 0,
           "arrowwidth": 1
          },
          "autotypenumbers": "strict",
          "coloraxis": {
           "colorbar": {
            "outlinewidth": 0,
            "ticks": ""
           }
          },
          "colorscale": {
           "diverging": [
            [
             0,
             "#8e0152"
            ],
            [
             0.1,
             "#c51b7d"
            ],
            [
             0.2,
             "#de77ae"
            ],
            [
             0.3,
             "#f1b6da"
            ],
            [
             0.4,
             "#fde0ef"
            ],
            [
             0.5,
             "#f7f7f7"
            ],
            [
             0.6,
             "#e6f5d0"
            ],
            [
             0.7,
             "#b8e186"
            ],
            [
             0.8,
             "#7fbc41"
            ],
            [
             0.9,
             "#4d9221"
            ],
            [
             1,
             "#276419"
            ]
           ],
           "sequential": [
            [
             0,
             "#0d0887"
            ],
            [
             0.1111111111111111,
             "#46039f"
            ],
            [
             0.2222222222222222,
             "#7201a8"
            ],
            [
             0.3333333333333333,
             "#9c179e"
            ],
            [
             0.4444444444444444,
             "#bd3786"
            ],
            [
             0.5555555555555556,
             "#d8576b"
            ],
            [
             0.6666666666666666,
             "#ed7953"
            ],
            [
             0.7777777777777778,
             "#fb9f3a"
            ],
            [
             0.8888888888888888,
             "#fdca26"
            ],
            [
             1,
             "#f0f921"
            ]
           ],
           "sequentialminus": [
            [
             0,
             "#0d0887"
            ],
            [
             0.1111111111111111,
             "#46039f"
            ],
            [
             0.2222222222222222,
             "#7201a8"
            ],
            [
             0.3333333333333333,
             "#9c179e"
            ],
            [
             0.4444444444444444,
             "#bd3786"
            ],
            [
             0.5555555555555556,
             "#d8576b"
            ],
            [
             0.6666666666666666,
             "#ed7953"
            ],
            [
             0.7777777777777778,
             "#fb9f3a"
            ],
            [
             0.8888888888888888,
             "#fdca26"
            ],
            [
             1,
             "#f0f921"
            ]
           ]
          },
          "colorway": [
           "#636efa",
           "#EF553B",
           "#00cc96",
           "#ab63fa",
           "#FFA15A",
           "#19d3f3",
           "#FF6692",
           "#B6E880",
           "#FF97FF",
           "#FECB52"
          ],
          "font": {
           "color": "#2a3f5f"
          },
          "geo": {
           "bgcolor": "white",
           "lakecolor": "white",
           "landcolor": "white",
           "showlakes": true,
           "showland": true,
           "subunitcolor": "#C8D4E3"
          },
          "hoverlabel": {
           "align": "left"
          },
          "hovermode": "closest",
          "mapbox": {
           "style": "light"
          },
          "paper_bgcolor": "white",
          "plot_bgcolor": "white",
          "polar": {
           "angularaxis": {
            "gridcolor": "#EBF0F8",
            "linecolor": "#EBF0F8",
            "ticks": ""
           },
           "bgcolor": "white",
           "radialaxis": {
            "gridcolor": "#EBF0F8",
            "linecolor": "#EBF0F8",
            "ticks": ""
           }
          },
          "scene": {
           "xaxis": {
            "backgroundcolor": "white",
            "gridcolor": "#DFE8F3",
            "gridwidth": 2,
            "linecolor": "#EBF0F8",
            "showbackground": true,
            "ticks": "",
            "zerolinecolor": "#EBF0F8"
           },
           "yaxis": {
            "backgroundcolor": "white",
            "gridcolor": "#DFE8F3",
            "gridwidth": 2,
            "linecolor": "#EBF0F8",
            "showbackground": true,
            "ticks": "",
            "zerolinecolor": "#EBF0F8"
           },
           "zaxis": {
            "backgroundcolor": "white",
            "gridcolor": "#DFE8F3",
            "gridwidth": 2,
            "linecolor": "#EBF0F8",
            "showbackground": true,
            "ticks": "",
            "zerolinecolor": "#EBF0F8"
           }
          },
          "shapedefaults": {
           "line": {
            "color": "#2a3f5f"
           }
          },
          "ternary": {
           "aaxis": {
            "gridcolor": "#DFE8F3",
            "linecolor": "#A2B1C6",
            "ticks": ""
           },
           "baxis": {
            "gridcolor": "#DFE8F3",
            "linecolor": "#A2B1C6",
            "ticks": ""
           },
           "bgcolor": "white",
           "caxis": {
            "gridcolor": "#DFE8F3",
            "linecolor": "#A2B1C6",
            "ticks": ""
           }
          },
          "title": {
           "x": 0.05
          },
          "xaxis": {
           "automargin": true,
           "gridcolor": "#EBF0F8",
           "linecolor": "#EBF0F8",
           "ticks": "",
           "title": {
            "standoff": 15
           },
           "zerolinecolor": "#EBF0F8",
           "zerolinewidth": 2
          },
          "yaxis": {
           "automargin": true,
           "gridcolor": "#EBF0F8",
           "linecolor": "#EBF0F8",
           "ticks": "",
           "title": {
            "standoff": 15
           },
           "zerolinecolor": "#EBF0F8",
           "zerolinewidth": 2
          }
         }
        },
        "width": 900,
        "xaxis": {
         "anchor": "y",
         "domain": [
          0,
          0.26666666666666666
         ]
        },
        "xaxis2": {
         "anchor": "y2",
         "domain": [
          0.3666666666666667,
          0.6333333333333333
         ]
        },
        "xaxis3": {
         "anchor": "y3",
         "domain": [
          0.7333333333333334,
          1
         ]
        },
        "yaxis": {
         "anchor": "x",
         "domain": [
          0,
          1
         ],
         "ticksuffix": "°C",
         "title": {
          "standoff": 0,
          "text": "Global warming"
         },
         "zerolinecolor": "#000",
         "zerolinewidth": 1
        },
        "yaxis2": {
         "anchor": "x2",
         "domain": [
          0,
          1
         ],
         "tickformat": ".0%",
         "title": {
          "standoff": 0,
          "text": "Benefits and costs as % of GDP"
         },
         "zerolinecolor": "#000",
         "zerolinewidth": 1
        },
        "yaxis3": {
         "anchor": "x3",
         "domain": [
          0,
          1
         ],
         "ticksuffix": ":1",
         "title": {
          "standoff": 0,
          "text": "BCR"
         },
         "zerolinecolor": "#000",
         "zerolinewidth": 1
        }
       }
      }
     },
     "metadata": {},
     "output_type": "display_data"
    }
   ],
   "source": [
    "from utils import plot_bcr\n",
    "fig_with_temp = plot_bcr.fig_bcr(\n",
    "    relative_avoided_damages_values, relative_costs_values, temperatures, bcr_values\n",
    ")\n",
    "fig_with_temp"
   ]
  },
  {
   "cell_type": "code",
   "execution_count": 12,
   "metadata": {},
   "outputs": [],
   "source": [
    "# fig_with_temp.write_image(\"Figures/figure5_cba_benefit_cost_ratios_3models.png\", scale=3)"
   ]
  },
  {
   "cell_type": "code",
   "execution_count": 13,
   "metadata": {},
   "outputs": [
    {
     "data": {
      "application/vnd.plotly.v1+json": {
       "config": {
        "plotlyServerURL": "https://plot.ly"
       },
       "data": [
        {
         "legendgroup": "MIMOSA",
         "line": {
          "color": "#00AEEF",
          "dash": "solid",
          "width": 3
         },
         "mode": "lines",
         "name": "MIMOSA",
         "showlegend": false,
         "type": "scatter",
         "x": [
          2020,
          2025,
          2030,
          2035,
          2040,
          2045,
          2050,
          2055,
          2060,
          2065,
          2070,
          2075,
          2080,
          2085,
          2090,
          2095,
          2100,
          2105,
          2110,
          2115,
          2120,
          2125,
          2130,
          2135,
          2140,
          2145,
          2150
         ],
         "xaxis": "x",
         "y": [
          0,
          0.0008152931838571778,
          0.002680562880830366,
          0.005628610822522824,
          0.009288495003985958,
          0.013824550996979114,
          0.01946441411586268,
          0.026245304873797455,
          0.034225038099122966,
          0.043503002743483565,
          0.054202354998333535,
          0.06637759555915677,
          0.08006000283740106,
          0.09519808812329449,
          0.11183843295427132,
          0.1300233367569384,
          0.1495982786247432,
          0.16838540286207868,
          0.18920533883230503,
          0.21044453780185696,
          0.23199212598808222,
          0.2537580079815643,
          0.27560965244079855,
          0.2973572621470137,
          0.3188869559490133,
          0.34006418102488906,
          0.36066459347613716
         ],
         "yaxis": "y"
        },
        {
         "legendgroup": "WITCH",
         "line": {
          "color": "#808D1D",
          "dash": "solid",
          "width": 3
         },
         "mode": "lines",
         "name": "WITCH",
         "showlegend": false,
         "type": "scatter",
         "x": [
          2020,
          2025,
          2030,
          2035,
          2040,
          2045,
          2050,
          2060,
          2070,
          2080,
          2090,
          2100,
          2110,
          2120,
          2130,
          2140,
          2150
         ],
         "xaxis": "x",
         "y": [
          -0.0004859261383039,
          -0.0018446278775324358,
          -0.0009675650789952091,
          0.0015038138809384245,
          0.004558457249904154,
          0.008086421442630103,
          0.011873015087269359,
          0.019967795920182347,
          0.02932695616508414,
          0.039545813433190094,
          0.05097597887879403,
          0.063115696672753,
          0.0758089120277713,
          0.0885843189080936,
          0.1008275429465546,
          0.11231656327587507,
          0.11882445220814322
         ],
         "yaxis": "y"
        },
        {
         "legendgroup": "REMIND",
         "line": {
          "color": "#FAAD1E",
          "dash": "solid",
          "width": 3
         },
         "mode": "lines",
         "name": "REMIND",
         "showlegend": false,
         "type": "scatter",
         "x": [
          2020,
          2025,
          2030,
          2035,
          2040,
          2045,
          2050,
          2055,
          2060,
          2070,
          2080,
          2090,
          2100,
          2110,
          2130,
          2150
         ],
         "xaxis": "x",
         "y": [
          -0.00011452917473365096,
          -0.00002870991615092578,
          0.00007553785933422455,
          0.00012378747354782233,
          -0.00011824934146366793,
          0.00021471329737387742,
          0.0027248246443027546,
          0.00685919285548281,
          0.01086381195203715,
          0.02221616336451615,
          0.037217432129285015,
          0.055030469746219404,
          0.07358294997157505,
          0.08805940504942361,
          0.12381196406189747,
          0.16015674443026606
         ],
         "yaxis": "y"
        },
        {
         "legendgroup": "MIMOSA_combined",
         "line": {
          "color": "#B6036C",
          "dash": "solid",
          "width": 3
         },
         "mode": "lines",
         "name": "MIMOSA_combined",
         "showlegend": false,
         "type": "scatter",
         "x": [],
         "xaxis": "x",
         "y": [],
         "yaxis": "y"
        },
        {
         "legendgroup": "MIMOSA",
         "line": {
          "color": "#00AEEF",
          "dash": "dot",
          "width": 3
         },
         "mode": "lines",
         "name": "MIMOSA",
         "showlegend": false,
         "type": "scatter",
         "x": [
          2020,
          2025,
          2030,
          2035,
          2040,
          2045,
          2050,
          2055,
          2060,
          2065,
          2070,
          2075,
          2080,
          2085,
          2090,
          2095,
          2100,
          2105,
          2110,
          2115,
          2120,
          2125,
          2130,
          2135,
          2140,
          2145,
          2150
         ],
         "xaxis": "x",
         "y": [
          0,
          0.001851911065742902,
          0.009516298623533316,
          0.021545022851954282,
          0.026140157635245877,
          0.027667896328432588,
          0.028699645774506094,
          0.029151948897209224,
          0.029196498849854216,
          0.02905585115776129,
          0.028784554755578392,
          0.028343088645677805,
          0.027812176927247176,
          0.027237417585227304,
          0.026723298804853187,
          0.02631810475707486,
          0.025906995580646314,
          0.02062515777152546,
          0.019685429305288035,
          0.018897037661966473,
          0.018223754164392297,
          0.01763270684162158,
          0.01712734235789172,
          0.016672504620953696,
          0.016273660611909352,
          0.015924845173504867,
          0.015620664352273229
         ],
         "yaxis": "y"
        },
        {
         "legendgroup": "WITCH",
         "line": {
          "color": "#808D1D",
          "dash": "dot",
          "width": 3
         },
         "mode": "lines",
         "name": "WITCH",
         "showlegend": false,
         "type": "scatter",
         "x": [
          2020,
          2025,
          2030,
          2035,
          2040,
          2045,
          2050,
          2060,
          2070,
          2080,
          2090,
          2100,
          2110,
          2120,
          2130,
          2140,
          2150
         ],
         "xaxis": "x",
         "y": [
          -0.0004859261383039,
          0.0092486319461703,
          0.013219500905195398,
          0.0157089553005075,
          0.0166574095156085,
          0.0166608219655523,
          0.0169219504883078,
          0.018199070072405,
          0.0197683349072516,
          0.0210374957901551,
          0.0219109257675938,
          0.0220864640390429,
          0.0218340081757101,
          0.021430192368802,
          0.0208965947603949,
          0.0206385294269482,
          0.020667688318481
         ],
         "yaxis": "y"
        },
        {
         "legendgroup": "REMIND",
         "line": {
          "color": "#FAAD1E",
          "dash": "dot",
          "width": 3
         },
         "mode": "lines",
         "name": "REMIND",
         "showlegend": false,
         "type": "scatter",
         "x": [
          2020,
          2025,
          2030,
          2035,
          2040,
          2045,
          2050,
          2055,
          2060,
          2070,
          2080,
          2090,
          2100,
          2110,
          2130,
          2150
         ],
         "xaxis": "x",
         "y": [
          -0.0003639385229556,
          0.0026305388150505,
          0.0058828899322068,
          0.0061335997074667995,
          0.0053970638283528,
          0.003742857854062,
          0.003736365029929,
          0.0043163978170438,
          0.0051300574213311,
          0.007639031315715701,
          0.0091564093919808,
          0.0096396169078387,
          0.0092357635266773,
          0.0080288534862572,
          0.0068626521707854,
          0.0071659355361166
         ],
         "yaxis": "y"
        },
        {
         "legendgroup": "MIMOSA_combined",
         "line": {
          "color": "#B6036C",
          "dash": "dot",
          "width": 3
         },
         "mode": "lines",
         "name": "MIMOSA_combined",
         "showlegend": false,
         "type": "scatter",
         "x": [],
         "xaxis": "x",
         "y": [],
         "yaxis": "y"
        },
        {
         "cliponaxis": false,
         "legendgroup": "MIMOSA",
         "marker": {
          "color": "#00AEEF"
         },
         "name": "MIMOSA",
         "text": [
          "3.2",
          "2.7",
          "2.4"
         ],
         "textfont": {
          "color": "#BBB"
         },
         "textposition": "outside",
         "type": "bar",
         "x": [
          "0.1%/yr",
          "1.5%/yr",
          "3.0%/yr"
         ],
         "xaxis": "x2",
         "y": [
          3.155089779949757,
          2.70460242618666,
          2.3906586336471074
         ],
         "yaxis": "y2"
        },
        {
         "cliponaxis": false,
         "legendgroup": "WITCH",
         "marker": {
          "color": "#808D1D"
         },
         "name": "WITCH",
         "text": [
          "1.8",
          "1.5",
          "1.3"
         ],
         "textfont": {
          "color": "#BBB"
         },
         "textposition": "outside",
         "type": "bar",
         "x": [
          "0.1%/yr",
          "1.5%/yr",
          "3.0%/yr"
         ],
         "xaxis": "x2",
         "y": [
          1.7851152666760586,
          1.535939893038981,
          1.2601131440223312
         ],
         "yaxis": "y2"
        },
        {
         "cliponaxis": false,
         "legendgroup": "REMIND",
         "marker": {
          "color": "#FAAD1E"
         },
         "name": "REMIND",
         "text": [
          "3.9",
          "2.0"
         ],
         "textfont": {
          "color": "#BBB"
         },
         "textposition": "outside",
         "type": "bar",
         "x": [
          "1.5%/yr",
          "3.0%/yr"
         ],
         "xaxis": "x2",
         "y": [
          3.9260939668110293,
          1.978159369489877
         ],
         "yaxis": "y2"
        }
       ],
       "layout": {
        "annotations": [
         {
          "font": {
           "size": 16
          },
          "showarrow": false,
          "text": "<b>a.</b> Resulting benefits and costs<br>over time",
          "x": 0.27,
          "xanchor": "center",
          "xref": "paper",
          "y": 1,
          "yanchor": "bottom",
          "yref": "paper"
         },
         {
          "font": {
           "size": 16
          },
          "showarrow": false,
          "text": "<b>b.</b> Benefit Cost Ratios<br> ",
          "x": 0.8200000000000001,
          "xanchor": "center",
          "xref": "paper",
          "y": 1,
          "yanchor": "bottom",
          "yref": "paper"
         },
         {
          "font": {
           "size": 14
          },
          "showarrow": false,
          "text": " Avoided damages",
          "x": 0.15000000000000002,
          "xanchor": "left",
          "xref": "x domain",
          "y": 0.9,
          "yanchor": "middle",
          "yref": "y domain"
         },
         {
          "font": {
           "size": 14
          },
          "showarrow": false,
          "text": " Costs",
          "x": 0.15000000000000002,
          "xanchor": "left",
          "xref": "x domain",
          "y": 0.8150000000000001,
          "yanchor": "middle",
          "yref": "y domain"
         }
        ],
        "barmode": "group",
        "height": 350,
        "legend": {
         "bgcolor": "#FFF",
         "font": {
          "size": 13
         },
         "tracegroupgap": 0,
         "y": 0.5
        },
        "margin": {
         "b": 30,
         "l": 30,
         "r": 30,
         "t": 70
        },
        "shapes": [
         {
          "line": {
           "color": "#444",
           "dash": "solid",
           "width": 3
          },
          "type": "line",
          "x0": 0.05,
          "x1": 0.15000000000000002,
          "xref": "x domain",
          "y0": 0.9,
          "y1": 0.9,
          "yref": "y domain"
         },
         {
          "line": {
           "color": "#444",
           "dash": "dot",
           "width": 3
          },
          "type": "line",
          "x0": 0.05,
          "x1": 0.15000000000000002,
          "xref": "x domain",
          "y0": 0.8150000000000001,
          "y1": 0.8150000000000001,
          "yref": "y domain"
         },
         {
          "type": "line",
          "x0": 0,
          "x1": 1,
          "xref": "x2 domain",
          "y0": 1,
          "y1": 1,
          "yref": "y2"
         }
        ],
        "template": {
         "data": {
          "bar": [
           {
            "error_x": {
             "color": "#2a3f5f"
            },
            "error_y": {
             "color": "#2a3f5f"
            },
            "marker": {
             "line": {
              "color": "white",
              "width": 0.5
             },
             "pattern": {
              "fillmode": "overlay",
              "size": 10,
              "solidity": 0.2
             }
            },
            "type": "bar"
           }
          ],
          "barpolar": [
           {
            "marker": {
             "line": {
              "color": "white",
              "width": 0.5
             },
             "pattern": {
              "fillmode": "overlay",
              "size": 10,
              "solidity": 0.2
             }
            },
            "type": "barpolar"
           }
          ],
          "carpet": [
           {
            "aaxis": {
             "endlinecolor": "#2a3f5f",
             "gridcolor": "#C8D4E3",
             "linecolor": "#C8D4E3",
             "minorgridcolor": "#C8D4E3",
             "startlinecolor": "#2a3f5f"
            },
            "baxis": {
             "endlinecolor": "#2a3f5f",
             "gridcolor": "#C8D4E3",
             "linecolor": "#C8D4E3",
             "minorgridcolor": "#C8D4E3",
             "startlinecolor": "#2a3f5f"
            },
            "type": "carpet"
           }
          ],
          "choropleth": [
           {
            "colorbar": {
             "outlinewidth": 0,
             "ticks": ""
            },
            "type": "choropleth"
           }
          ],
          "contour": [
           {
            "colorbar": {
             "outlinewidth": 0,
             "ticks": ""
            },
            "colorscale": [
             [
              0,
              "#0d0887"
             ],
             [
              0.1111111111111111,
              "#46039f"
             ],
             [
              0.2222222222222222,
              "#7201a8"
             ],
             [
              0.3333333333333333,
              "#9c179e"
             ],
             [
              0.4444444444444444,
              "#bd3786"
             ],
             [
              0.5555555555555556,
              "#d8576b"
             ],
             [
              0.6666666666666666,
              "#ed7953"
             ],
             [
              0.7777777777777778,
              "#fb9f3a"
             ],
             [
              0.8888888888888888,
              "#fdca26"
             ],
             [
              1,
              "#f0f921"
             ]
            ],
            "type": "contour"
           }
          ],
          "contourcarpet": [
           {
            "colorbar": {
             "outlinewidth": 0,
             "ticks": ""
            },
            "type": "contourcarpet"
           }
          ],
          "heatmap": [
           {
            "colorbar": {
             "outlinewidth": 0,
             "ticks": ""
            },
            "colorscale": [
             [
              0,
              "#0d0887"
             ],
             [
              0.1111111111111111,
              "#46039f"
             ],
             [
              0.2222222222222222,
              "#7201a8"
             ],
             [
              0.3333333333333333,
              "#9c179e"
             ],
             [
              0.4444444444444444,
              "#bd3786"
             ],
             [
              0.5555555555555556,
              "#d8576b"
             ],
             [
              0.6666666666666666,
              "#ed7953"
             ],
             [
              0.7777777777777778,
              "#fb9f3a"
             ],
             [
              0.8888888888888888,
              "#fdca26"
             ],
             [
              1,
              "#f0f921"
             ]
            ],
            "type": "heatmap"
           }
          ],
          "heatmapgl": [
           {
            "colorbar": {
             "outlinewidth": 0,
             "ticks": ""
            },
            "colorscale": [
             [
              0,
              "#0d0887"
             ],
             [
              0.1111111111111111,
              "#46039f"
             ],
             [
              0.2222222222222222,
              "#7201a8"
             ],
             [
              0.3333333333333333,
              "#9c179e"
             ],
             [
              0.4444444444444444,
              "#bd3786"
             ],
             [
              0.5555555555555556,
              "#d8576b"
             ],
             [
              0.6666666666666666,
              "#ed7953"
             ],
             [
              0.7777777777777778,
              "#fb9f3a"
             ],
             [
              0.8888888888888888,
              "#fdca26"
             ],
             [
              1,
              "#f0f921"
             ]
            ],
            "type": "heatmapgl"
           }
          ],
          "histogram": [
           {
            "marker": {
             "pattern": {
              "fillmode": "overlay",
              "size": 10,
              "solidity": 0.2
             }
            },
            "type": "histogram"
           }
          ],
          "histogram2d": [
           {
            "colorbar": {
             "outlinewidth": 0,
             "ticks": ""
            },
            "colorscale": [
             [
              0,
              "#0d0887"
             ],
             [
              0.1111111111111111,
              "#46039f"
             ],
             [
              0.2222222222222222,
              "#7201a8"
             ],
             [
              0.3333333333333333,
              "#9c179e"
             ],
             [
              0.4444444444444444,
              "#bd3786"
             ],
             [
              0.5555555555555556,
              "#d8576b"
             ],
             [
              0.6666666666666666,
              "#ed7953"
             ],
             [
              0.7777777777777778,
              "#fb9f3a"
             ],
             [
              0.8888888888888888,
              "#fdca26"
             ],
             [
              1,
              "#f0f921"
             ]
            ],
            "type": "histogram2d"
           }
          ],
          "histogram2dcontour": [
           {
            "colorbar": {
             "outlinewidth": 0,
             "ticks": ""
            },
            "colorscale": [
             [
              0,
              "#0d0887"
             ],
             [
              0.1111111111111111,
              "#46039f"
             ],
             [
              0.2222222222222222,
              "#7201a8"
             ],
             [
              0.3333333333333333,
              "#9c179e"
             ],
             [
              0.4444444444444444,
              "#bd3786"
             ],
             [
              0.5555555555555556,
              "#d8576b"
             ],
             [
              0.6666666666666666,
              "#ed7953"
             ],
             [
              0.7777777777777778,
              "#fb9f3a"
             ],
             [
              0.8888888888888888,
              "#fdca26"
             ],
             [
              1,
              "#f0f921"
             ]
            ],
            "type": "histogram2dcontour"
           }
          ],
          "mesh3d": [
           {
            "colorbar": {
             "outlinewidth": 0,
             "ticks": ""
            },
            "type": "mesh3d"
           }
          ],
          "parcoords": [
           {
            "line": {
             "colorbar": {
              "outlinewidth": 0,
              "ticks": ""
             }
            },
            "type": "parcoords"
           }
          ],
          "pie": [
           {
            "automargin": true,
            "type": "pie"
           }
          ],
          "scatter": [
           {
            "fillpattern": {
             "fillmode": "overlay",
             "size": 10,
             "solidity": 0.2
            },
            "type": "scatter"
           }
          ],
          "scatter3d": [
           {
            "line": {
             "colorbar": {
              "outlinewidth": 0,
              "ticks": ""
             }
            },
            "marker": {
             "colorbar": {
              "outlinewidth": 0,
              "ticks": ""
             }
            },
            "type": "scatter3d"
           }
          ],
          "scattercarpet": [
           {
            "marker": {
             "colorbar": {
              "outlinewidth": 0,
              "ticks": ""
             }
            },
            "type": "scattercarpet"
           }
          ],
          "scattergeo": [
           {
            "marker": {
             "colorbar": {
              "outlinewidth": 0,
              "ticks": ""
             }
            },
            "type": "scattergeo"
           }
          ],
          "scattergl": [
           {
            "marker": {
             "colorbar": {
              "outlinewidth": 0,
              "ticks": ""
             }
            },
            "type": "scattergl"
           }
          ],
          "scattermapbox": [
           {
            "marker": {
             "colorbar": {
              "outlinewidth": 0,
              "ticks": ""
             }
            },
            "type": "scattermapbox"
           }
          ],
          "scatterpolar": [
           {
            "marker": {
             "colorbar": {
              "outlinewidth": 0,
              "ticks": ""
             }
            },
            "type": "scatterpolar"
           }
          ],
          "scatterpolargl": [
           {
            "marker": {
             "colorbar": {
              "outlinewidth": 0,
              "ticks": ""
             }
            },
            "type": "scatterpolargl"
           }
          ],
          "scatterternary": [
           {
            "marker": {
             "colorbar": {
              "outlinewidth": 0,
              "ticks": ""
             }
            },
            "type": "scatterternary"
           }
          ],
          "surface": [
           {
            "colorbar": {
             "outlinewidth": 0,
             "ticks": ""
            },
            "colorscale": [
             [
              0,
              "#0d0887"
             ],
             [
              0.1111111111111111,
              "#46039f"
             ],
             [
              0.2222222222222222,
              "#7201a8"
             ],
             [
              0.3333333333333333,
              "#9c179e"
             ],
             [
              0.4444444444444444,
              "#bd3786"
             ],
             [
              0.5555555555555556,
              "#d8576b"
             ],
             [
              0.6666666666666666,
              "#ed7953"
             ],
             [
              0.7777777777777778,
              "#fb9f3a"
             ],
             [
              0.8888888888888888,
              "#fdca26"
             ],
             [
              1,
              "#f0f921"
             ]
            ],
            "type": "surface"
           }
          ],
          "table": [
           {
            "cells": {
             "fill": {
              "color": "#EBF0F8"
             },
             "line": {
              "color": "white"
             }
            },
            "header": {
             "fill": {
              "color": "#C8D4E3"
             },
             "line": {
              "color": "white"
             }
            },
            "type": "table"
           }
          ]
         },
         "layout": {
          "annotationdefaults": {
           "arrowcolor": "#2a3f5f",
           "arrowhead": 0,
           "arrowwidth": 1
          },
          "autotypenumbers": "strict",
          "coloraxis": {
           "colorbar": {
            "outlinewidth": 0,
            "ticks": ""
           }
          },
          "colorscale": {
           "diverging": [
            [
             0,
             "#8e0152"
            ],
            [
             0.1,
             "#c51b7d"
            ],
            [
             0.2,
             "#de77ae"
            ],
            [
             0.3,
             "#f1b6da"
            ],
            [
             0.4,
             "#fde0ef"
            ],
            [
             0.5,
             "#f7f7f7"
            ],
            [
             0.6,
             "#e6f5d0"
            ],
            [
             0.7,
             "#b8e186"
            ],
            [
             0.8,
             "#7fbc41"
            ],
            [
             0.9,
             "#4d9221"
            ],
            [
             1,
             "#276419"
            ]
           ],
           "sequential": [
            [
             0,
             "#0d0887"
            ],
            [
             0.1111111111111111,
             "#46039f"
            ],
            [
             0.2222222222222222,
             "#7201a8"
            ],
            [
             0.3333333333333333,
             "#9c179e"
            ],
            [
             0.4444444444444444,
             "#bd3786"
            ],
            [
             0.5555555555555556,
             "#d8576b"
            ],
            [
             0.6666666666666666,
             "#ed7953"
            ],
            [
             0.7777777777777778,
             "#fb9f3a"
            ],
            [
             0.8888888888888888,
             "#fdca26"
            ],
            [
             1,
             "#f0f921"
            ]
           ],
           "sequentialminus": [
            [
             0,
             "#0d0887"
            ],
            [
             0.1111111111111111,
             "#46039f"
            ],
            [
             0.2222222222222222,
             "#7201a8"
            ],
            [
             0.3333333333333333,
             "#9c179e"
            ],
            [
             0.4444444444444444,
             "#bd3786"
            ],
            [
             0.5555555555555556,
             "#d8576b"
            ],
            [
             0.6666666666666666,
             "#ed7953"
            ],
            [
             0.7777777777777778,
             "#fb9f3a"
            ],
            [
             0.8888888888888888,
             "#fdca26"
            ],
            [
             1,
             "#f0f921"
            ]
           ]
          },
          "colorway": [
           "#636efa",
           "#EF553B",
           "#00cc96",
           "#ab63fa",
           "#FFA15A",
           "#19d3f3",
           "#FF6692",
           "#B6E880",
           "#FF97FF",
           "#FECB52"
          ],
          "font": {
           "color": "#2a3f5f"
          },
          "geo": {
           "bgcolor": "white",
           "lakecolor": "white",
           "landcolor": "white",
           "showlakes": true,
           "showland": true,
           "subunitcolor": "#C8D4E3"
          },
          "hoverlabel": {
           "align": "left"
          },
          "hovermode": "closest",
          "mapbox": {
           "style": "light"
          },
          "paper_bgcolor": "white",
          "plot_bgcolor": "white",
          "polar": {
           "angularaxis": {
            "gridcolor": "#EBF0F8",
            "linecolor": "#EBF0F8",
            "ticks": ""
           },
           "bgcolor": "white",
           "radialaxis": {
            "gridcolor": "#EBF0F8",
            "linecolor": "#EBF0F8",
            "ticks": ""
           }
          },
          "scene": {
           "xaxis": {
            "backgroundcolor": "white",
            "gridcolor": "#DFE8F3",
            "gridwidth": 2,
            "linecolor": "#EBF0F8",
            "showbackground": true,
            "ticks": "",
            "zerolinecolor": "#EBF0F8"
           },
           "yaxis": {
            "backgroundcolor": "white",
            "gridcolor": "#DFE8F3",
            "gridwidth": 2,
            "linecolor": "#EBF0F8",
            "showbackground": true,
            "ticks": "",
            "zerolinecolor": "#EBF0F8"
           },
           "zaxis": {
            "backgroundcolor": "white",
            "gridcolor": "#DFE8F3",
            "gridwidth": 2,
            "linecolor": "#EBF0F8",
            "showbackground": true,
            "ticks": "",
            "zerolinecolor": "#EBF0F8"
           }
          },
          "shapedefaults": {
           "line": {
            "color": "#2a3f5f"
           }
          },
          "ternary": {
           "aaxis": {
            "gridcolor": "#DFE8F3",
            "linecolor": "#A2B1C6",
            "ticks": ""
           },
           "baxis": {
            "gridcolor": "#DFE8F3",
            "linecolor": "#A2B1C6",
            "ticks": ""
           },
           "bgcolor": "white",
           "caxis": {
            "gridcolor": "#DFE8F3",
            "linecolor": "#A2B1C6",
            "ticks": ""
           }
          },
          "title": {
           "x": 0.05
          },
          "xaxis": {
           "automargin": true,
           "gridcolor": "#EBF0F8",
           "linecolor": "#EBF0F8",
           "ticks": "",
           "title": {
            "standoff": 15
           },
           "zerolinecolor": "#EBF0F8",
           "zerolinewidth": 2
          },
          "yaxis": {
           "automargin": true,
           "gridcolor": "#EBF0F8",
           "linecolor": "#EBF0F8",
           "ticks": "",
           "title": {
            "standoff": 15
           },
           "zerolinecolor": "#EBF0F8",
           "zerolinewidth": 2
          }
         }
        },
        "width": 900,
        "xaxis": {
         "anchor": "y",
         "domain": [
          0,
          0.54
         ]
        },
        "xaxis2": {
         "anchor": "y2",
         "domain": [
          0.64,
          1
         ]
        },
        "yaxis": {
         "anchor": "x",
         "domain": [
          0,
          1
         ],
         "tickformat": ".0%",
         "title": {
          "standoff": 0,
          "text": "Benefits and costs as % of GDP"
         },
         "zerolinecolor": "#000",
         "zerolinewidth": 1
        },
        "yaxis2": {
         "anchor": "x2",
         "domain": [
          0,
          1
         ],
         "ticksuffix": ":1",
         "title": {
          "standoff": 0,
          "text": "BCR"
         },
         "zerolinecolor": "#000",
         "zerolinewidth": 1
        }
       }
      }
     },
     "metadata": {},
     "output_type": "display_data"
    }
   ],
   "source": [
    "fig = plot_bcr.fig_bcr(\n",
    "    relative_avoided_damages_values, relative_costs_values, None, bcr_values\n",
    ")\n",
    "fig"
   ]
  },
  {
   "cell_type": "code",
   "execution_count": 14,
   "metadata": {},
   "outputs": [],
   "source": [
    "fig.write_image(\"Figures/figure5_cba_benefit_cost_ratios.png\", scale=3)"
   ]
  },
  {
   "cell_type": "code",
   "execution_count": 15,
   "metadata": {},
   "outputs": [
    {
     "data": {
      "application/vnd.plotly.v1+json": {
       "config": {
        "plotlyServerURL": "https://plot.ly"
       },
       "data": [
        {
         "legendgroup": "MIMOSA",
         "line": {
          "color": "#00AEEF",
          "dash": "solid",
          "width": 3
         },
         "mode": "lines",
         "name": "MIMOSA",
         "showlegend": false,
         "type": "scatter",
         "x": [
          2020,
          2025,
          2030,
          2035,
          2040,
          2045,
          2050,
          2055,
          2060,
          2065,
          2070,
          2075,
          2080,
          2085,
          2090,
          2095,
          2100,
          2105,
          2110,
          2115,
          2120,
          2125,
          2130,
          2135,
          2140,
          2145,
          2150
         ],
         "xaxis": "x",
         "y": [
          0,
          0.001595122784762342,
          0.005262866885493057,
          0.011276856819363806,
          0.019535325801598325,
          0.02910534496096851,
          0.040665455057587375,
          0.05421532094182441,
          0.06973414374707441,
          0.08725228289371348,
          0.10682261676414156,
          0.1284123875944747,
          0.1518647571456977,
          0.17696668967205487,
          0.20363002839914102,
          0.2318014927862612,
          0.26118051124585856,
          0.28781612435803966,
          0.3172095570320563,
          0.3463968606677978,
          0.3751884412095555,
          0.4034428841265878,
          0.4309886096794346,
          0.45762679778678417,
          0.4832159885376339,
          0.507652286567612,
          0.5307218715770189
         ],
         "yaxis": "y"
        },
        {
         "legendgroup": "WITCH",
         "line": {
          "color": "#808D1D",
          "dash": "solid",
          "width": 3
         },
         "mode": "lines",
         "name": "WITCH",
         "showlegend": false,
         "type": "scatter",
         "x": [
          2020,
          2025,
          2030,
          2035,
          2040,
          2045,
          2050,
          2060,
          2070,
          2080,
          2090,
          2100,
          2110,
          2120,
          2130,
          2140,
          2150
         ],
         "xaxis": "x",
         "y": [
          -0.0004859261383039,
          -0.003566357397041565,
          -0.0018786793626479415,
          0.004247126788163727,
          0.01161070623920187,
          0.01956037994734447,
          0.02726151176451592,
          0.042645754890170855,
          0.05957813081667817,
          0.07818366271363873,
          0.09765448276568019,
          0.11781701793027714,
          0.13816670225664712,
          0.1577749107190352,
          0.17649950303303624,
          0.19490211740011676,
          0.20890238908349343
         ],
         "yaxis": "y"
        },
        {
         "legendgroup": "REMIND",
         "line": {
          "color": "#FAAD1E",
          "dash": "solid",
          "width": 3
         },
         "mode": "lines",
         "name": "REMIND",
         "showlegend": false,
         "type": "scatter",
         "x": [
          2020,
          2025,
          2030,
          2035,
          2040,
          2045,
          2050,
          2055,
          2060,
          2070,
          2080,
          2090,
          2100,
          2110,
          2130,
          2150
         ],
         "xaxis": "x",
         "y": [
          0.00002980483754817973,
          -0.0006753910131976281,
          -0.000995251121355275,
          0.0005717627078956201,
          0.0027369741220128964,
          0.005711662907399226,
          0.011934406396077606,
          0.02072744034102597,
          0.029678727962565942,
          0.052234447271926214,
          0.08083643165115739,
          0.11394666288431589,
          0.1468792802709115,
          0.17286205047618453,
          0.23678017665433276,
          0.3003538360741155
         ],
         "yaxis": "y"
        },
        {
         "legendgroup": "MIMOSA_combined",
         "line": {
          "color": "#B6036C",
          "dash": "solid",
          "width": 3
         },
         "mode": "lines",
         "name": "MIMOSA_combined",
         "showlegend": false,
         "type": "scatter",
         "x": [],
         "xaxis": "x",
         "y": [],
         "yaxis": "y"
        },
        {
         "legendgroup": "MIMOSA",
         "line": {
          "color": "#00AEEF",
          "dash": "dot",
          "width": 3
         },
         "mode": "lines",
         "name": "MIMOSA",
         "showlegend": false,
         "type": "scatter",
         "x": [
          2020,
          2025,
          2030,
          2035,
          2040,
          2045,
          2050,
          2055,
          2060,
          2065,
          2070,
          2075,
          2080,
          2085,
          2090,
          2095,
          2100,
          2105,
          2110,
          2115,
          2120,
          2125,
          2130,
          2135,
          2140,
          2145,
          2150
         ],
         "xaxis": "x",
         "y": [
          0,
          0.00207172520964254,
          0.011469680315760485,
          0.02819557489657775,
          0.04556584524851466,
          0.04830434468623003,
          0.04957314637140339,
          0.049835021217303224,
          0.04941458365092527,
          0.048687274734149466,
          0.047744618639104286,
          0.046578288338187536,
          0.045271687711642784,
          0.04392140718038979,
          0.0426901363042213,
          0.041668113636619014,
          0.04065647367282747,
          0.032224609297089576,
          0.030502012701245248,
          0.02907546292431165,
          0.02787383973369873,
          0.02683660435893808,
          0.02595628385676033,
          0.025202817663764598,
          0.024543790121721816,
          0.02398641028912479,
          0.023504567812911693
         ],
         "yaxis": "y"
        },
        {
         "legendgroup": "WITCH",
         "line": {
          "color": "#808D1D",
          "dash": "dot",
          "width": 3
         },
         "mode": "lines",
         "name": "WITCH",
         "showlegend": false,
         "type": "scatter",
         "x": [
          2020,
          2025,
          2030,
          2035,
          2040,
          2045,
          2050,
          2060,
          2070,
          2080,
          2090,
          2100,
          2110,
          2120,
          2130,
          2140,
          2150
         ],
         "xaxis": "x",
         "y": [
          -0.0004859261383039,
          0.0186725657617648,
          0.024973935040451905,
          0.0279518405628296,
          0.0282289563684126,
          0.0280400962096736,
          0.0284285379356011,
          0.0310784368852539,
          0.0330174999201061,
          0.0336600413508804,
          0.0332898522882587,
          0.0325198585068658,
          0.0315082662075589,
          0.030551630988489,
          0.0297970228059122,
          0.0291502738064465,
          0.0306818067485937
         ],
         "yaxis": "y"
        },
        {
         "legendgroup": "REMIND",
         "line": {
          "color": "#FAAD1E",
          "dash": "dot",
          "width": 3
         },
         "mode": "lines",
         "name": "REMIND",
         "showlegend": false,
         "type": "scatter",
         "x": [
          2020,
          2025,
          2030,
          2035,
          2040,
          2045,
          2050,
          2055,
          2060,
          2070,
          2080,
          2090,
          2100,
          2110,
          2130,
          2150
         ],
         "xaxis": "x",
         "y": [
          -0.0003639385229556,
          0.0056516777132405,
          0.011201859538372,
          0.011518614608082,
          0.0105403605510739,
          0.008492855824939,
          0.0080506239476958,
          0.0085830754816099,
          0.0092883793174024,
          0.0112592756057779,
          0.012544439864437599,
          0.0133946418597713,
          0.0128188559653762,
          0.0109446799379785,
          0.0088474947566108,
          0.0089493057227119
         ],
         "yaxis": "y"
        },
        {
         "legendgroup": "MIMOSA_combined",
         "line": {
          "color": "#B6036C",
          "dash": "dot",
          "width": 3
         },
         "mode": "lines",
         "name": "MIMOSA_combined",
         "showlegend": false,
         "type": "scatter",
         "x": [],
         "xaxis": "x",
         "y": [],
         "yaxis": "y"
        },
        {
         "cliponaxis": false,
         "legendgroup": "MIMOSA",
         "marker": {
          "color": "#00AEEF"
         },
         "name": "MIMOSA",
         "text": [
          "3.5",
          "3.0",
          "2.6"
         ],
         "textfont": {
          "color": "#BBB"
         },
         "textposition": "outside",
         "type": "bar",
         "x": [
          "0.1%/yr",
          "1.5%/yr",
          "3.0%/yr"
         ],
         "xaxis": "x2",
         "y": [
          3.5387617781695155,
          2.964244791961615,
          2.603851575152308
         ],
         "yaxis": "y2"
        },
        {
         "cliponaxis": false,
         "legendgroup": "WITCH",
         "marker": {
          "color": "#808D1D"
         },
         "name": "WITCH",
         "text": [
          "2.2",
          "1.8",
          "1.5"
         ],
         "textfont": {
          "color": "#BBB"
         },
         "textposition": "outside",
         "type": "bar",
         "x": [
          "0.1%/yr",
          "1.5%/yr",
          "3.0%/yr"
         ],
         "xaxis": "x2",
         "y": [
          2.223572182234738,
          1.7953181679485186,
          1.480982800558821
         ],
         "yaxis": "y2"
        },
        {
         "cliponaxis": false,
         "legendgroup": "REMIND",
         "marker": {
          "color": "#FAAD1E"
         },
         "name": "REMIND",
         "text": [
          "5.0",
          "2.4"
         ],
         "textfont": {
          "color": "#BBB"
         },
         "textposition": "outside",
         "type": "bar",
         "x": [
          "1.5%/yr",
          "3.0%/yr"
         ],
         "xaxis": "x2",
         "y": [
          4.963842740982418,
          2.408117762721348
         ],
         "yaxis": "y2"
        }
       ],
       "layout": {
        "annotations": [
         {
          "font": {
           "size": 16
          },
          "showarrow": false,
          "text": "<b>a.</b> Resulting benefits and costs<br>over time",
          "x": 0.27,
          "xanchor": "center",
          "xref": "paper",
          "y": 1,
          "yanchor": "bottom",
          "yref": "paper"
         },
         {
          "font": {
           "size": 16
          },
          "showarrow": false,
          "text": "<b>b.</b> Benefit Cost Ratios<br> ",
          "x": 0.8200000000000001,
          "xanchor": "center",
          "xref": "paper",
          "y": 1,
          "yanchor": "bottom",
          "yref": "paper"
         },
         {
          "font": {
           "size": 14
          },
          "showarrow": false,
          "text": " Avoided damages",
          "x": 0.15000000000000002,
          "xanchor": "left",
          "xref": "x domain",
          "y": 0.9,
          "yanchor": "middle",
          "yref": "y domain"
         },
         {
          "font": {
           "size": 14
          },
          "showarrow": false,
          "text": " Costs",
          "x": 0.15000000000000002,
          "xanchor": "left",
          "xref": "x domain",
          "y": 0.8150000000000001,
          "yanchor": "middle",
          "yref": "y domain"
         }
        ],
        "barmode": "group",
        "height": 350,
        "legend": {
         "bgcolor": "#FFF",
         "font": {
          "size": 13
         },
         "tracegroupgap": 0,
         "y": 0.5
        },
        "margin": {
         "b": 30,
         "l": 30,
         "r": 30,
         "t": 70
        },
        "shapes": [
         {
          "line": {
           "color": "#444",
           "dash": "solid",
           "width": 3
          },
          "type": "line",
          "x0": 0.05,
          "x1": 0.15000000000000002,
          "xref": "x domain",
          "y0": 0.9,
          "y1": 0.9,
          "yref": "y domain"
         },
         {
          "line": {
           "color": "#444",
           "dash": "dot",
           "width": 3
          },
          "type": "line",
          "x0": 0.05,
          "x1": 0.15000000000000002,
          "xref": "x domain",
          "y0": 0.8150000000000001,
          "y1": 0.8150000000000001,
          "yref": "y domain"
         },
         {
          "type": "line",
          "x0": 0,
          "x1": 1,
          "xref": "x2 domain",
          "y0": 1,
          "y1": 1,
          "yref": "y2"
         }
        ],
        "template": {
         "data": {
          "bar": [
           {
            "error_x": {
             "color": "#2a3f5f"
            },
            "error_y": {
             "color": "#2a3f5f"
            },
            "marker": {
             "line": {
              "color": "white",
              "width": 0.5
             },
             "pattern": {
              "fillmode": "overlay",
              "size": 10,
              "solidity": 0.2
             }
            },
            "type": "bar"
           }
          ],
          "barpolar": [
           {
            "marker": {
             "line": {
              "color": "white",
              "width": 0.5
             },
             "pattern": {
              "fillmode": "overlay",
              "size": 10,
              "solidity": 0.2
             }
            },
            "type": "barpolar"
           }
          ],
          "carpet": [
           {
            "aaxis": {
             "endlinecolor": "#2a3f5f",
             "gridcolor": "#C8D4E3",
             "linecolor": "#C8D4E3",
             "minorgridcolor": "#C8D4E3",
             "startlinecolor": "#2a3f5f"
            },
            "baxis": {
             "endlinecolor": "#2a3f5f",
             "gridcolor": "#C8D4E3",
             "linecolor": "#C8D4E3",
             "minorgridcolor": "#C8D4E3",
             "startlinecolor": "#2a3f5f"
            },
            "type": "carpet"
           }
          ],
          "choropleth": [
           {
            "colorbar": {
             "outlinewidth": 0,
             "ticks": ""
            },
            "type": "choropleth"
           }
          ],
          "contour": [
           {
            "colorbar": {
             "outlinewidth": 0,
             "ticks": ""
            },
            "colorscale": [
             [
              0,
              "#0d0887"
             ],
             [
              0.1111111111111111,
              "#46039f"
             ],
             [
              0.2222222222222222,
              "#7201a8"
             ],
             [
              0.3333333333333333,
              "#9c179e"
             ],
             [
              0.4444444444444444,
              "#bd3786"
             ],
             [
              0.5555555555555556,
              "#d8576b"
             ],
             [
              0.6666666666666666,
              "#ed7953"
             ],
             [
              0.7777777777777778,
              "#fb9f3a"
             ],
             [
              0.8888888888888888,
              "#fdca26"
             ],
             [
              1,
              "#f0f921"
             ]
            ],
            "type": "contour"
           }
          ],
          "contourcarpet": [
           {
            "colorbar": {
             "outlinewidth": 0,
             "ticks": ""
            },
            "type": "contourcarpet"
           }
          ],
          "heatmap": [
           {
            "colorbar": {
             "outlinewidth": 0,
             "ticks": ""
            },
            "colorscale": [
             [
              0,
              "#0d0887"
             ],
             [
              0.1111111111111111,
              "#46039f"
             ],
             [
              0.2222222222222222,
              "#7201a8"
             ],
             [
              0.3333333333333333,
              "#9c179e"
             ],
             [
              0.4444444444444444,
              "#bd3786"
             ],
             [
              0.5555555555555556,
              "#d8576b"
             ],
             [
              0.6666666666666666,
              "#ed7953"
             ],
             [
              0.7777777777777778,
              "#fb9f3a"
             ],
             [
              0.8888888888888888,
              "#fdca26"
             ],
             [
              1,
              "#f0f921"
             ]
            ],
            "type": "heatmap"
           }
          ],
          "heatmapgl": [
           {
            "colorbar": {
             "outlinewidth": 0,
             "ticks": ""
            },
            "colorscale": [
             [
              0,
              "#0d0887"
             ],
             [
              0.1111111111111111,
              "#46039f"
             ],
             [
              0.2222222222222222,
              "#7201a8"
             ],
             [
              0.3333333333333333,
              "#9c179e"
             ],
             [
              0.4444444444444444,
              "#bd3786"
             ],
             [
              0.5555555555555556,
              "#d8576b"
             ],
             [
              0.6666666666666666,
              "#ed7953"
             ],
             [
              0.7777777777777778,
              "#fb9f3a"
             ],
             [
              0.8888888888888888,
              "#fdca26"
             ],
             [
              1,
              "#f0f921"
             ]
            ],
            "type": "heatmapgl"
           }
          ],
          "histogram": [
           {
            "marker": {
             "pattern": {
              "fillmode": "overlay",
              "size": 10,
              "solidity": 0.2
             }
            },
            "type": "histogram"
           }
          ],
          "histogram2d": [
           {
            "colorbar": {
             "outlinewidth": 0,
             "ticks": ""
            },
            "colorscale": [
             [
              0,
              "#0d0887"
             ],
             [
              0.1111111111111111,
              "#46039f"
             ],
             [
              0.2222222222222222,
              "#7201a8"
             ],
             [
              0.3333333333333333,
              "#9c179e"
             ],
             [
              0.4444444444444444,
              "#bd3786"
             ],
             [
              0.5555555555555556,
              "#d8576b"
             ],
             [
              0.6666666666666666,
              "#ed7953"
             ],
             [
              0.7777777777777778,
              "#fb9f3a"
             ],
             [
              0.8888888888888888,
              "#fdca26"
             ],
             [
              1,
              "#f0f921"
             ]
            ],
            "type": "histogram2d"
           }
          ],
          "histogram2dcontour": [
           {
            "colorbar": {
             "outlinewidth": 0,
             "ticks": ""
            },
            "colorscale": [
             [
              0,
              "#0d0887"
             ],
             [
              0.1111111111111111,
              "#46039f"
             ],
             [
              0.2222222222222222,
              "#7201a8"
             ],
             [
              0.3333333333333333,
              "#9c179e"
             ],
             [
              0.4444444444444444,
              "#bd3786"
             ],
             [
              0.5555555555555556,
              "#d8576b"
             ],
             [
              0.6666666666666666,
              "#ed7953"
             ],
             [
              0.7777777777777778,
              "#fb9f3a"
             ],
             [
              0.8888888888888888,
              "#fdca26"
             ],
             [
              1,
              "#f0f921"
             ]
            ],
            "type": "histogram2dcontour"
           }
          ],
          "mesh3d": [
           {
            "colorbar": {
             "outlinewidth": 0,
             "ticks": ""
            },
            "type": "mesh3d"
           }
          ],
          "parcoords": [
           {
            "line": {
             "colorbar": {
              "outlinewidth": 0,
              "ticks": ""
             }
            },
            "type": "parcoords"
           }
          ],
          "pie": [
           {
            "automargin": true,
            "type": "pie"
           }
          ],
          "scatter": [
           {
            "fillpattern": {
             "fillmode": "overlay",
             "size": 10,
             "solidity": 0.2
            },
            "type": "scatter"
           }
          ],
          "scatter3d": [
           {
            "line": {
             "colorbar": {
              "outlinewidth": 0,
              "ticks": ""
             }
            },
            "marker": {
             "colorbar": {
              "outlinewidth": 0,
              "ticks": ""
             }
            },
            "type": "scatter3d"
           }
          ],
          "scattercarpet": [
           {
            "marker": {
             "colorbar": {
              "outlinewidth": 0,
              "ticks": ""
             }
            },
            "type": "scattercarpet"
           }
          ],
          "scattergeo": [
           {
            "marker": {
             "colorbar": {
              "outlinewidth": 0,
              "ticks": ""
             }
            },
            "type": "scattergeo"
           }
          ],
          "scattergl": [
           {
            "marker": {
             "colorbar": {
              "outlinewidth": 0,
              "ticks": ""
             }
            },
            "type": "scattergl"
           }
          ],
          "scattermapbox": [
           {
            "marker": {
             "colorbar": {
              "outlinewidth": 0,
              "ticks": ""
             }
            },
            "type": "scattermapbox"
           }
          ],
          "scatterpolar": [
           {
            "marker": {
             "colorbar": {
              "outlinewidth": 0,
              "ticks": ""
             }
            },
            "type": "scatterpolar"
           }
          ],
          "scatterpolargl": [
           {
            "marker": {
             "colorbar": {
              "outlinewidth": 0,
              "ticks": ""
             }
            },
            "type": "scatterpolargl"
           }
          ],
          "scatterternary": [
           {
            "marker": {
             "colorbar": {
              "outlinewidth": 0,
              "ticks": ""
             }
            },
            "type": "scatterternary"
           }
          ],
          "surface": [
           {
            "colorbar": {
             "outlinewidth": 0,
             "ticks": ""
            },
            "colorscale": [
             [
              0,
              "#0d0887"
             ],
             [
              0.1111111111111111,
              "#46039f"
             ],
             [
              0.2222222222222222,
              "#7201a8"
             ],
             [
              0.3333333333333333,
              "#9c179e"
             ],
             [
              0.4444444444444444,
              "#bd3786"
             ],
             [
              0.5555555555555556,
              "#d8576b"
             ],
             [
              0.6666666666666666,
              "#ed7953"
             ],
             [
              0.7777777777777778,
              "#fb9f3a"
             ],
             [
              0.8888888888888888,
              "#fdca26"
             ],
             [
              1,
              "#f0f921"
             ]
            ],
            "type": "surface"
           }
          ],
          "table": [
           {
            "cells": {
             "fill": {
              "color": "#EBF0F8"
             },
             "line": {
              "color": "white"
             }
            },
            "header": {
             "fill": {
              "color": "#C8D4E3"
             },
             "line": {
              "color": "white"
             }
            },
            "type": "table"
           }
          ]
         },
         "layout": {
          "annotationdefaults": {
           "arrowcolor": "#2a3f5f",
           "arrowhead": 0,
           "arrowwidth": 1
          },
          "autotypenumbers": "strict",
          "coloraxis": {
           "colorbar": {
            "outlinewidth": 0,
            "ticks": ""
           }
          },
          "colorscale": {
           "diverging": [
            [
             0,
             "#8e0152"
            ],
            [
             0.1,
             "#c51b7d"
            ],
            [
             0.2,
             "#de77ae"
            ],
            [
             0.3,
             "#f1b6da"
            ],
            [
             0.4,
             "#fde0ef"
            ],
            [
             0.5,
             "#f7f7f7"
            ],
            [
             0.6,
             "#e6f5d0"
            ],
            [
             0.7,
             "#b8e186"
            ],
            [
             0.8,
             "#7fbc41"
            ],
            [
             0.9,
             "#4d9221"
            ],
            [
             1,
             "#276419"
            ]
           ],
           "sequential": [
            [
             0,
             "#0d0887"
            ],
            [
             0.1111111111111111,
             "#46039f"
            ],
            [
             0.2222222222222222,
             "#7201a8"
            ],
            [
             0.3333333333333333,
             "#9c179e"
            ],
            [
             0.4444444444444444,
             "#bd3786"
            ],
            [
             0.5555555555555556,
             "#d8576b"
            ],
            [
             0.6666666666666666,
             "#ed7953"
            ],
            [
             0.7777777777777778,
             "#fb9f3a"
            ],
            [
             0.8888888888888888,
             "#fdca26"
            ],
            [
             1,
             "#f0f921"
            ]
           ],
           "sequentialminus": [
            [
             0,
             "#0d0887"
            ],
            [
             0.1111111111111111,
             "#46039f"
            ],
            [
             0.2222222222222222,
             "#7201a8"
            ],
            [
             0.3333333333333333,
             "#9c179e"
            ],
            [
             0.4444444444444444,
             "#bd3786"
            ],
            [
             0.5555555555555556,
             "#d8576b"
            ],
            [
             0.6666666666666666,
             "#ed7953"
            ],
            [
             0.7777777777777778,
             "#fb9f3a"
            ],
            [
             0.8888888888888888,
             "#fdca26"
            ],
            [
             1,
             "#f0f921"
            ]
           ]
          },
          "colorway": [
           "#636efa",
           "#EF553B",
           "#00cc96",
           "#ab63fa",
           "#FFA15A",
           "#19d3f3",
           "#FF6692",
           "#B6E880",
           "#FF97FF",
           "#FECB52"
          ],
          "font": {
           "color": "#2a3f5f"
          },
          "geo": {
           "bgcolor": "white",
           "lakecolor": "white",
           "landcolor": "white",
           "showlakes": true,
           "showland": true,
           "subunitcolor": "#C8D4E3"
          },
          "hoverlabel": {
           "align": "left"
          },
          "hovermode": "closest",
          "mapbox": {
           "style": "light"
          },
          "paper_bgcolor": "white",
          "plot_bgcolor": "white",
          "polar": {
           "angularaxis": {
            "gridcolor": "#EBF0F8",
            "linecolor": "#EBF0F8",
            "ticks": ""
           },
           "bgcolor": "white",
           "radialaxis": {
            "gridcolor": "#EBF0F8",
            "linecolor": "#EBF0F8",
            "ticks": ""
           }
          },
          "scene": {
           "xaxis": {
            "backgroundcolor": "white",
            "gridcolor": "#DFE8F3",
            "gridwidth": 2,
            "linecolor": "#EBF0F8",
            "showbackground": true,
            "ticks": "",
            "zerolinecolor": "#EBF0F8"
           },
           "yaxis": {
            "backgroundcolor": "white",
            "gridcolor": "#DFE8F3",
            "gridwidth": 2,
            "linecolor": "#EBF0F8",
            "showbackground": true,
            "ticks": "",
            "zerolinecolor": "#EBF0F8"
           },
           "zaxis": {
            "backgroundcolor": "white",
            "gridcolor": "#DFE8F3",
            "gridwidth": 2,
            "linecolor": "#EBF0F8",
            "showbackground": true,
            "ticks": "",
            "zerolinecolor": "#EBF0F8"
           }
          },
          "shapedefaults": {
           "line": {
            "color": "#2a3f5f"
           }
          },
          "ternary": {
           "aaxis": {
            "gridcolor": "#DFE8F3",
            "linecolor": "#A2B1C6",
            "ticks": ""
           },
           "baxis": {
            "gridcolor": "#DFE8F3",
            "linecolor": "#A2B1C6",
            "ticks": ""
           },
           "bgcolor": "white",
           "caxis": {
            "gridcolor": "#DFE8F3",
            "linecolor": "#A2B1C6",
            "ticks": ""
           }
          },
          "title": {
           "x": 0.05
          },
          "xaxis": {
           "automargin": true,
           "gridcolor": "#EBF0F8",
           "linecolor": "#EBF0F8",
           "ticks": "",
           "title": {
            "standoff": 15
           },
           "zerolinecolor": "#EBF0F8",
           "zerolinewidth": 2
          },
          "yaxis": {
           "automargin": true,
           "gridcolor": "#EBF0F8",
           "linecolor": "#EBF0F8",
           "ticks": "",
           "title": {
            "standoff": 15
           },
           "zerolinecolor": "#EBF0F8",
           "zerolinewidth": 2
          }
         }
        },
        "width": 900,
        "xaxis": {
         "anchor": "y",
         "domain": [
          0,
          0.54
         ]
        },
        "xaxis2": {
         "anchor": "y2",
         "domain": [
          0.64,
          1
         ]
        },
        "yaxis": {
         "anchor": "x",
         "domain": [
          0,
          1
         ],
         "tickformat": ".0%",
         "title": {
          "standoff": 0,
          "text": "Benefits and costs as % of GDP"
         },
         "zerolinecolor": "#000",
         "zerolinewidth": 1
        },
        "yaxis2": {
         "anchor": "x2",
         "domain": [
          0,
          1
         ],
         "ticksuffix": ":1",
         "title": {
          "standoff": 0,
          "text": "BCR"
         },
         "zerolinecolor": "#000",
         "zerolinewidth": 1
        }
       }
      }
     },
     "metadata": {},
     "output_type": "display_data"
    }
   ],
   "source": [
    "fig_p95 = plot_bcr.fig_bcr(\n",
    "    relative_avoided_damages_values, relative_costs_values, None, bcr_values, damage_quantile=\"95\"\n",
    ")\n",
    "fig_p95"
   ]
  },
  {
   "cell_type": "code",
   "execution_count": 16,
   "metadata": {},
   "outputs": [],
   "source": [
    "fig_p95.write_image(\"Figures/SI_figure_cba_benefit_cost_ratios_p95.png\", scale=3)"
   ]
  }
 ],
 "metadata": {
  "kernelspec": {
   "display_name": "Python 3.9.7 ('base')",
   "language": "python",
   "name": "python3"
  },
  "language_info": {
   "codemirror_mode": {
    "name": "ipython",
    "version": 3
   },
   "file_extension": ".py",
   "mimetype": "text/x-python",
   "name": "python",
   "nbconvert_exporter": "python",
   "pygments_lexer": "ipython3",
   "version": "3.9.7"
  },
  "orig_nbformat": 4,
  "vscode": {
   "interpreter": {
    "hash": "f48c55e66ed92c2380bee03bb3bd2b960c14319c73a7f45d58f9ce1d5465d03c"
   }
  }
 },
 "nbformat": 4,
 "nbformat_minor": 2
}
